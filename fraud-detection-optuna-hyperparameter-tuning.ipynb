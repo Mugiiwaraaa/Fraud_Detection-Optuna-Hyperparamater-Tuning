{
 "cells": [
  {
   "cell_type": "code",
   "execution_count": 1,
   "id": "91cc9c26",
   "metadata": {
    "_cell_guid": "b1076dfc-b9ad-4769-8c92-a6c4dae69d19",
    "_uuid": "8f2839f25d086af736a60e9eeb907d3b93b6e0e5",
    "execution": {
     "iopub.execute_input": "2022-10-16T13:39:33.144861Z",
     "iopub.status.busy": "2022-10-16T13:39:33.143830Z",
     "iopub.status.idle": "2022-10-16T13:39:33.165626Z",
     "shell.execute_reply": "2022-10-16T13:39:33.164829Z"
    },
    "papermill": {
     "duration": 0.043222,
     "end_time": "2022-10-16T13:39:33.168577",
     "exception": false,
     "start_time": "2022-10-16T13:39:33.125355",
     "status": "completed"
    },
    "tags": []
   },
   "outputs": [
    {
     "name": "stdout",
     "output_type": "stream",
     "text": [
      "/kaggle/input/fraud-detection/creditcard.csv\n"
     ]
    }
   ],
   "source": [
    "# This Python 3 environment comes with many helpful analytics libraries installed\n",
    "# It is defined by the kaggle/python Docker image: https://github.com/kaggle/docker-python\n",
    "# For example, here's several helpful packages to load\n",
    "\n",
    "import numpy as np # linear algebra\n",
    "import pandas as pd # data processing, CSV file I/O (e.g. pd.read_csv)\n",
    "\n",
    "# Input data files are available in the read-only \"../input/\" directory\n",
    "# For example, running this (by clicking run or pressing Shift+Enter) will list all files under the input directory\n",
    "\n",
    "import os\n",
    "for dirname, _, filenames in os.walk('/kaggle/input'):\n",
    "    for filename in filenames:\n",
    "        print(os.path.join(dirname, filename))\n",
    "\n",
    "# You can write up to 20GB to the current directory (/kaggle/working/) that gets preserved as output when you create a version using \"Save & Run All\" \n",
    "# You can also write temporary files to /kaggle/temp/, but they won't be saved outside of the current session"
   ]
  },
  {
   "cell_type": "markdown",
   "id": "ec9f12d7",
   "metadata": {
    "papermill": {
     "duration": 0.010062,
     "end_time": "2022-10-16T13:39:33.190133",
     "exception": false,
     "start_time": "2022-10-16T13:39:33.180071",
     "status": "completed"
    },
    "tags": []
   },
   "source": [
    "# 1. Initial Preprocessing  "
   ]
  },
  {
   "cell_type": "code",
   "execution_count": 2,
   "id": "706731aa",
   "metadata": {
    "execution": {
     "iopub.execute_input": "2022-10-16T13:39:33.214010Z",
     "iopub.status.busy": "2022-10-16T13:39:33.213561Z",
     "iopub.status.idle": "2022-10-16T13:39:48.766270Z",
     "shell.execute_reply": "2022-10-16T13:39:48.764848Z"
    },
    "papermill": {
     "duration": 15.569286,
     "end_time": "2022-10-16T13:39:48.769577",
     "exception": false,
     "start_time": "2022-10-16T13:39:33.200291",
     "status": "completed"
    },
    "tags": []
   },
   "outputs": [
    {
     "data": {
      "text/html": [
       "<style type='text/css'>\n",
       ".datatable table.frame { margin-bottom: 0; }\n",
       ".datatable table.frame thead { border-bottom: none; }\n",
       ".datatable table.frame tr.coltypes td {  color: #FFFFFF;  line-height: 6px;  padding: 0 0.5em;}\n",
       ".datatable .bool    { background: #DDDD99; }\n",
       ".datatable .object  { background: #565656; }\n",
       ".datatable .int     { background: #5D9E5D; }\n",
       ".datatable .float   { background: #4040CC; }\n",
       ".datatable .str     { background: #CC4040; }\n",
       ".datatable .time    { background: #40CC40; }\n",
       ".datatable .row_index {  background: var(--jp-border-color3);  border-right: 1px solid var(--jp-border-color0);  color: var(--jp-ui-font-color3);  font-size: 9px;}\n",
       ".datatable .frame tbody td { text-align: left; }\n",
       ".datatable .frame tr.coltypes .row_index {  background: var(--jp-border-color0);}\n",
       ".datatable th:nth-child(2) { padding-left: 12px; }\n",
       ".datatable .hellipsis {  color: var(--jp-cell-editor-border-color);}\n",
       ".datatable .vellipsis {  background: var(--jp-layout-color0);  color: var(--jp-cell-editor-border-color);}\n",
       ".datatable .na {  color: var(--jp-cell-editor-border-color);  font-size: 80%;}\n",
       ".datatable .sp {  opacity: 0.25;}\n",
       ".datatable .footer { font-size: 9px; }\n",
       ".datatable .frame_dimensions {  background: var(--jp-border-color3);  border-top: 1px solid var(--jp-border-color0);  color: var(--jp-ui-font-color3);  display: inline-block;  opacity: 0.6;  padding: 1px 10px 1px 5px;}\n",
       "</style>\n"
      ],
      "text/plain": [
       "<IPython.core.display.HTML object>"
      ]
     },
     "metadata": {},
     "output_type": "display_data"
    },
    {
     "name": "stdout",
     "output_type": "stream",
     "text": [
      "Requirement already satisfied: optuna in /opt/conda/lib/python3.7/site-packages (3.0.1)\r\n",
      "Requirement already satisfied: cliff in /opt/conda/lib/python3.7/site-packages (from optuna) (3.10.1)\r\n",
      "Requirement already satisfied: numpy in /opt/conda/lib/python3.7/site-packages (from optuna) (1.21.6)\r\n",
      "Requirement already satisfied: sqlalchemy>=1.1.0 in /opt/conda/lib/python3.7/site-packages (from optuna) (1.4.39)\r\n",
      "Requirement already satisfied: scipy<1.9.0,>=1.7.0 in /opt/conda/lib/python3.7/site-packages (from optuna) (1.7.3)\r\n",
      "Requirement already satisfied: colorlog in /opt/conda/lib/python3.7/site-packages (from optuna) (6.7.0)\r\n",
      "Requirement already satisfied: packaging>=20.0 in /opt/conda/lib/python3.7/site-packages (from optuna) (21.3)\r\n",
      "Requirement already satisfied: typing-extensions>=3.10.0.0 in /opt/conda/lib/python3.7/site-packages (from optuna) (4.3.0)\r\n",
      "Requirement already satisfied: alembic in /opt/conda/lib/python3.7/site-packages (from optuna) (1.8.1)\r\n",
      "Requirement already satisfied: PyYAML in /opt/conda/lib/python3.7/site-packages (from optuna) (6.0)\r\n",
      "Requirement already satisfied: tqdm in /opt/conda/lib/python3.7/site-packages (from optuna) (4.64.0)\r\n",
      "Requirement already satisfied: cmaes>=0.8.2 in /opt/conda/lib/python3.7/site-packages (from optuna) (0.8.2)\r\n",
      "Requirement already satisfied: pyparsing!=3.0.5,>=2.0.2 in /opt/conda/lib/python3.7/site-packages (from packaging>=20.0->optuna) (3.0.9)\r\n",
      "Requirement already satisfied: importlib-metadata in /opt/conda/lib/python3.7/site-packages (from sqlalchemy>=1.1.0->optuna) (4.12.0)\r\n",
      "Requirement already satisfied: greenlet!=0.4.17 in /opt/conda/lib/python3.7/site-packages (from sqlalchemy>=1.1.0->optuna) (1.1.2)\r\n",
      "Requirement already satisfied: Mako in /opt/conda/lib/python3.7/site-packages (from alembic->optuna) (1.2.2)\r\n",
      "Requirement already satisfied: importlib-resources in /opt/conda/lib/python3.7/site-packages (from alembic->optuna) (5.8.0)\r\n",
      "Requirement already satisfied: PrettyTable>=0.7.2 in /opt/conda/lib/python3.7/site-packages (from cliff->optuna) (3.3.0)\r\n",
      "Requirement already satisfied: stevedore>=2.0.1 in /opt/conda/lib/python3.7/site-packages (from cliff->optuna) (3.5.0)\r\n",
      "Requirement already satisfied: autopage>=0.4.0 in /opt/conda/lib/python3.7/site-packages (from cliff->optuna) (0.5.1)\r\n",
      "Requirement already satisfied: pbr!=2.1.0,>=2.0.0 in /opt/conda/lib/python3.7/site-packages (from cliff->optuna) (5.10.0)\r\n",
      "Requirement already satisfied: cmd2>=1.0.0 in /opt/conda/lib/python3.7/site-packages (from cliff->optuna) (2.4.2)\r\n",
      "Requirement already satisfied: pyperclip>=1.6 in /opt/conda/lib/python3.7/site-packages (from cmd2>=1.0.0->cliff->optuna) (1.8.2)\r\n",
      "Requirement already satisfied: attrs>=16.3.0 in /opt/conda/lib/python3.7/site-packages (from cmd2>=1.0.0->cliff->optuna) (21.4.0)\r\n",
      "Requirement already satisfied: wcwidth>=0.1.7 in /opt/conda/lib/python3.7/site-packages (from cmd2>=1.0.0->cliff->optuna) (0.2.5)\r\n",
      "Requirement already satisfied: zipp>=0.5 in /opt/conda/lib/python3.7/site-packages (from importlib-metadata->sqlalchemy>=1.1.0->optuna) (3.8.0)\r\n",
      "Requirement already satisfied: MarkupSafe>=0.9.2 in /opt/conda/lib/python3.7/site-packages (from Mako->alembic->optuna) (2.1.1)\r\n",
      "\u001b[33mWARNING: Running pip as the 'root' user can result in broken permissions and conflicting behaviour with the system package manager. It is recommended to use a virtual environment instead: https://pip.pypa.io/warnings/venv\u001b[0m\u001b[33m\r\n",
      "\u001b[0m"
     ]
    }
   ],
   "source": [
    "#importing dependencies \n",
    "import numpy as np\n",
    "import pandas as pd\n",
    "import matplotlib.pyplot as plt\n",
    "%matplotlib inline\n",
    "import seaborn as sns\n",
    "\n",
    "#modules for model training and preprocessing\n",
    "from sklearn.model_selection import train_test_split\n",
    "from sklearn.feature_selection import mutual_info_classif\n",
    "from sklearn.preprocessing import StandardScaler\n",
    "from sklearn.model_selection import GridSearchCV, cross_validate\n",
    "from sklearn.linear_model import LogisticRegression\n",
    "from sklearn.neighbors import KNeighborsClassifier\n",
    "from sklearn.tree import DecisionTreeClassifier\n",
    "from sklearn.ensemble import RandomForestClassifier\n",
    "from sklearn.svm import SVC\n",
    "from sklearn.neural_network import MLPClassifier\n",
    "from xgboost import XGBClassifier\n",
    "from lightgbm import LGBMClassifier\n",
    "from sklearn.metrics import accuracy_score, f1_score, confusion_matrix, classification_report\n",
    "!pip install optuna\n",
    "import optuna\n",
    "import warnings\n",
    "warnings.filterwarnings(\"ignore\")"
   ]
  },
  {
   "cell_type": "code",
   "execution_count": 3,
   "id": "12ab20b9",
   "metadata": {
    "execution": {
     "iopub.execute_input": "2022-10-16T13:39:48.800057Z",
     "iopub.status.busy": "2022-10-16T13:39:48.799628Z",
     "iopub.status.idle": "2022-10-16T13:39:53.595132Z",
     "shell.execute_reply": "2022-10-16T13:39:53.593936Z"
    },
    "papermill": {
     "duration": 4.811797,
     "end_time": "2022-10-16T13:39:53.598073",
     "exception": false,
     "start_time": "2022-10-16T13:39:48.786276",
     "status": "completed"
    },
    "tags": []
   },
   "outputs": [],
   "source": [
    "#Loading Datasets\n",
    "df = pd.read_csv(\"../input/fraud-detection/creditcard.csv\")"
   ]
  },
  {
   "cell_type": "code",
   "execution_count": 4,
   "id": "74df6930",
   "metadata": {
    "execution": {
     "iopub.execute_input": "2022-10-16T13:39:53.622845Z",
     "iopub.status.busy": "2022-10-16T13:39:53.622130Z",
     "iopub.status.idle": "2022-10-16T13:39:53.666255Z",
     "shell.execute_reply": "2022-10-16T13:39:53.665465Z"
    },
    "papermill": {
     "duration": 0.059042,
     "end_time": "2022-10-16T13:39:53.668395",
     "exception": false,
     "start_time": "2022-10-16T13:39:53.609353",
     "status": "completed"
    },
    "tags": []
   },
   "outputs": [
    {
     "data": {
      "text/html": [
       "<div>\n",
       "<style scoped>\n",
       "    .dataframe tbody tr th:only-of-type {\n",
       "        vertical-align: middle;\n",
       "    }\n",
       "\n",
       "    .dataframe tbody tr th {\n",
       "        vertical-align: top;\n",
       "    }\n",
       "\n",
       "    .dataframe thead th {\n",
       "        text-align: right;\n",
       "    }\n",
       "</style>\n",
       "<table border=\"1\" class=\"dataframe\">\n",
       "  <thead>\n",
       "    <tr style=\"text-align: right;\">\n",
       "      <th></th>\n",
       "      <th>Time</th>\n",
       "      <th>V1</th>\n",
       "      <th>V2</th>\n",
       "      <th>V3</th>\n",
       "      <th>V4</th>\n",
       "      <th>V5</th>\n",
       "      <th>V6</th>\n",
       "      <th>V7</th>\n",
       "      <th>V8</th>\n",
       "      <th>V9</th>\n",
       "      <th>...</th>\n",
       "      <th>V21</th>\n",
       "      <th>V22</th>\n",
       "      <th>V23</th>\n",
       "      <th>V24</th>\n",
       "      <th>V25</th>\n",
       "      <th>V26</th>\n",
       "      <th>V27</th>\n",
       "      <th>V28</th>\n",
       "      <th>Amount</th>\n",
       "      <th>Class</th>\n",
       "    </tr>\n",
       "  </thead>\n",
       "  <tbody>\n",
       "    <tr>\n",
       "      <th>155189</th>\n",
       "      <td>104748.0</td>\n",
       "      <td>1.960864</td>\n",
       "      <td>-0.325793</td>\n",
       "      <td>-0.062076</td>\n",
       "      <td>0.609282</td>\n",
       "      <td>-0.687701</td>\n",
       "      <td>-0.458010</td>\n",
       "      <td>-0.669933</td>\n",
       "      <td>-0.199865</td>\n",
       "      <td>2.373704</td>\n",
       "      <td>...</td>\n",
       "      <td>0.091486</td>\n",
       "      <td>0.786125</td>\n",
       "      <td>0.123349</td>\n",
       "      <td>0.03703</td>\n",
       "      <td>-0.255208</td>\n",
       "      <td>0.700152</td>\n",
       "      <td>-0.045489</td>\n",
       "      <td>-0.051186</td>\n",
       "      <td>24.00</td>\n",
       "      <td>0</td>\n",
       "    </tr>\n",
       "    <tr>\n",
       "      <th>265477</th>\n",
       "      <td>161902.0</td>\n",
       "      <td>-0.464565</td>\n",
       "      <td>-0.086839</td>\n",
       "      <td>1.366160</td>\n",
       "      <td>-0.274108</td>\n",
       "      <td>0.485827</td>\n",
       "      <td>-0.666155</td>\n",
       "      <td>0.975388</td>\n",
       "      <td>-0.999741</td>\n",
       "      <td>1.716517</td>\n",
       "      <td>...</td>\n",
       "      <td>-0.385767</td>\n",
       "      <td>0.021717</td>\n",
       "      <td>0.436603</td>\n",
       "      <td>-0.01366</td>\n",
       "      <td>-1.066230</td>\n",
       "      <td>-0.796849</td>\n",
       "      <td>-0.641220</td>\n",
       "      <td>-0.728961</td>\n",
       "      <td>9.99</td>\n",
       "      <td>0</td>\n",
       "    </tr>\n",
       "  </tbody>\n",
       "</table>\n",
       "<p>2 rows × 31 columns</p>\n",
       "</div>"
      ],
      "text/plain": [
       "            Time        V1        V2        V3        V4        V5        V6  \\\n",
       "155189  104748.0  1.960864 -0.325793 -0.062076  0.609282 -0.687701 -0.458010   \n",
       "265477  161902.0 -0.464565 -0.086839  1.366160 -0.274108  0.485827 -0.666155   \n",
       "\n",
       "              V7        V8        V9  ...       V21       V22       V23  \\\n",
       "155189 -0.669933 -0.199865  2.373704  ...  0.091486  0.786125  0.123349   \n",
       "265477  0.975388 -0.999741  1.716517  ... -0.385767  0.021717  0.436603   \n",
       "\n",
       "            V24       V25       V26       V27       V28  Amount  Class  \n",
       "155189  0.03703 -0.255208  0.700152 -0.045489 -0.051186   24.00      0  \n",
       "265477 -0.01366 -1.066230 -0.796849 -0.641220 -0.728961    9.99      0  \n",
       "\n",
       "[2 rows x 31 columns]"
      ]
     },
     "execution_count": 4,
     "metadata": {},
     "output_type": "execute_result"
    }
   ],
   "source": [
    "df.sample(2)"
   ]
  },
  {
   "cell_type": "code",
   "execution_count": 5,
   "id": "83768da9",
   "metadata": {
    "execution": {
     "iopub.execute_input": "2022-10-16T13:39:53.693285Z",
     "iopub.status.busy": "2022-10-16T13:39:53.692174Z",
     "iopub.status.idle": "2022-10-16T13:39:53.722202Z",
     "shell.execute_reply": "2022-10-16T13:39:53.721050Z"
    },
    "papermill": {
     "duration": 0.044943,
     "end_time": "2022-10-16T13:39:53.724674",
     "exception": false,
     "start_time": "2022-10-16T13:39:53.679731",
     "status": "completed"
    },
    "tags": []
   },
   "outputs": [
    {
     "data": {
      "text/plain": [
       "Time      0\n",
       "V1        0\n",
       "V2        0\n",
       "V3        0\n",
       "V4        0\n",
       "V5        0\n",
       "V6        0\n",
       "V7        0\n",
       "V8        0\n",
       "V9        0\n",
       "V10       0\n",
       "V11       0\n",
       "V12       0\n",
       "V13       0\n",
       "V14       0\n",
       "V15       0\n",
       "V16       0\n",
       "V17       0\n",
       "V18       0\n",
       "V19       0\n",
       "V20       0\n",
       "V21       0\n",
       "V22       0\n",
       "V23       0\n",
       "V24       0\n",
       "V25       0\n",
       "V26       0\n",
       "V27       0\n",
       "V28       0\n",
       "Amount    0\n",
       "Class     0\n",
       "dtype: int64"
      ]
     },
     "execution_count": 5,
     "metadata": {},
     "output_type": "execute_result"
    }
   ],
   "source": [
    "#checking for null values \n",
    "df.isnull().sum()"
   ]
  },
  {
   "cell_type": "code",
   "execution_count": 6,
   "id": "af613353",
   "metadata": {
    "execution": {
     "iopub.execute_input": "2022-10-16T13:39:53.749891Z",
     "iopub.status.busy": "2022-10-16T13:39:53.749467Z",
     "iopub.status.idle": "2022-10-16T13:39:54.865036Z",
     "shell.execute_reply": "2022-10-16T13:39:54.863821Z"
    },
    "papermill": {
     "duration": 1.131534,
     "end_time": "2022-10-16T13:39:54.867538",
     "exception": false,
     "start_time": "2022-10-16T13:39:53.736004",
     "status": "completed"
    },
    "tags": []
   },
   "outputs": [
    {
     "data": {
      "text/plain": [
       "1081"
      ]
     },
     "execution_count": 6,
     "metadata": {},
     "output_type": "execute_result"
    }
   ],
   "source": [
    "#checking for duplicates\n",
    "df.duplicated().sum()"
   ]
  },
  {
   "cell_type": "code",
   "execution_count": 7,
   "id": "096b1833",
   "metadata": {
    "execution": {
     "iopub.execute_input": "2022-10-16T13:39:54.892425Z",
     "iopub.status.busy": "2022-10-16T13:39:54.892007Z",
     "iopub.status.idle": "2022-10-16T13:39:56.156063Z",
     "shell.execute_reply": "2022-10-16T13:39:56.154746Z"
    },
    "papermill": {
     "duration": 1.279467,
     "end_time": "2022-10-16T13:39:56.158554",
     "exception": false,
     "start_time": "2022-10-16T13:39:54.879087",
     "status": "completed"
    },
    "tags": []
   },
   "outputs": [
    {
     "data": {
      "text/html": [
       "<div>\n",
       "<style scoped>\n",
       "    .dataframe tbody tr th:only-of-type {\n",
       "        vertical-align: middle;\n",
       "    }\n",
       "\n",
       "    .dataframe tbody tr th {\n",
       "        vertical-align: top;\n",
       "    }\n",
       "\n",
       "    .dataframe thead th {\n",
       "        text-align: right;\n",
       "    }\n",
       "</style>\n",
       "<table border=\"1\" class=\"dataframe\">\n",
       "  <thead>\n",
       "    <tr style=\"text-align: right;\">\n",
       "      <th></th>\n",
       "      <th>Time</th>\n",
       "      <th>V1</th>\n",
       "      <th>V2</th>\n",
       "      <th>V3</th>\n",
       "      <th>V4</th>\n",
       "      <th>V5</th>\n",
       "      <th>V6</th>\n",
       "      <th>V7</th>\n",
       "      <th>V8</th>\n",
       "      <th>V9</th>\n",
       "      <th>...</th>\n",
       "      <th>V21</th>\n",
       "      <th>V22</th>\n",
       "      <th>V23</th>\n",
       "      <th>V24</th>\n",
       "      <th>V25</th>\n",
       "      <th>V26</th>\n",
       "      <th>V27</th>\n",
       "      <th>V28</th>\n",
       "      <th>Amount</th>\n",
       "      <th>Class</th>\n",
       "    </tr>\n",
       "  </thead>\n",
       "  <tbody>\n",
       "    <tr>\n",
       "      <th>0</th>\n",
       "      <td>0.0</td>\n",
       "      <td>-1.359807</td>\n",
       "      <td>-0.072781</td>\n",
       "      <td>2.536347</td>\n",
       "      <td>1.378155</td>\n",
       "      <td>-0.338321</td>\n",
       "      <td>0.462388</td>\n",
       "      <td>0.239599</td>\n",
       "      <td>0.098698</td>\n",
       "      <td>0.363787</td>\n",
       "      <td>...</td>\n",
       "      <td>-0.018307</td>\n",
       "      <td>0.277838</td>\n",
       "      <td>-0.110474</td>\n",
       "      <td>0.066928</td>\n",
       "      <td>0.128539</td>\n",
       "      <td>-0.189115</td>\n",
       "      <td>0.133558</td>\n",
       "      <td>-0.021053</td>\n",
       "      <td>149.62</td>\n",
       "      <td>0</td>\n",
       "    </tr>\n",
       "    <tr>\n",
       "      <th>1</th>\n",
       "      <td>0.0</td>\n",
       "      <td>1.191857</td>\n",
       "      <td>0.266151</td>\n",
       "      <td>0.166480</td>\n",
       "      <td>0.448154</td>\n",
       "      <td>0.060018</td>\n",
       "      <td>-0.082361</td>\n",
       "      <td>-0.078803</td>\n",
       "      <td>0.085102</td>\n",
       "      <td>-0.255425</td>\n",
       "      <td>...</td>\n",
       "      <td>-0.225775</td>\n",
       "      <td>-0.638672</td>\n",
       "      <td>0.101288</td>\n",
       "      <td>-0.339846</td>\n",
       "      <td>0.167170</td>\n",
       "      <td>0.125895</td>\n",
       "      <td>-0.008983</td>\n",
       "      <td>0.014724</td>\n",
       "      <td>2.69</td>\n",
       "      <td>0</td>\n",
       "    </tr>\n",
       "    <tr>\n",
       "      <th>2</th>\n",
       "      <td>1.0</td>\n",
       "      <td>-1.358354</td>\n",
       "      <td>-1.340163</td>\n",
       "      <td>1.773209</td>\n",
       "      <td>0.379780</td>\n",
       "      <td>-0.503198</td>\n",
       "      <td>1.800499</td>\n",
       "      <td>0.791461</td>\n",
       "      <td>0.247676</td>\n",
       "      <td>-1.514654</td>\n",
       "      <td>...</td>\n",
       "      <td>0.247998</td>\n",
       "      <td>0.771679</td>\n",
       "      <td>0.909412</td>\n",
       "      <td>-0.689281</td>\n",
       "      <td>-0.327642</td>\n",
       "      <td>-0.139097</td>\n",
       "      <td>-0.055353</td>\n",
       "      <td>-0.059752</td>\n",
       "      <td>378.66</td>\n",
       "      <td>0</td>\n",
       "    </tr>\n",
       "    <tr>\n",
       "      <th>3</th>\n",
       "      <td>1.0</td>\n",
       "      <td>-0.966272</td>\n",
       "      <td>-0.185226</td>\n",
       "      <td>1.792993</td>\n",
       "      <td>-0.863291</td>\n",
       "      <td>-0.010309</td>\n",
       "      <td>1.247203</td>\n",
       "      <td>0.237609</td>\n",
       "      <td>0.377436</td>\n",
       "      <td>-1.387024</td>\n",
       "      <td>...</td>\n",
       "      <td>-0.108300</td>\n",
       "      <td>0.005274</td>\n",
       "      <td>-0.190321</td>\n",
       "      <td>-1.175575</td>\n",
       "      <td>0.647376</td>\n",
       "      <td>-0.221929</td>\n",
       "      <td>0.062723</td>\n",
       "      <td>0.061458</td>\n",
       "      <td>123.50</td>\n",
       "      <td>0</td>\n",
       "    </tr>\n",
       "    <tr>\n",
       "      <th>4</th>\n",
       "      <td>2.0</td>\n",
       "      <td>-1.158233</td>\n",
       "      <td>0.877737</td>\n",
       "      <td>1.548718</td>\n",
       "      <td>0.403034</td>\n",
       "      <td>-0.407193</td>\n",
       "      <td>0.095921</td>\n",
       "      <td>0.592941</td>\n",
       "      <td>-0.270533</td>\n",
       "      <td>0.817739</td>\n",
       "      <td>...</td>\n",
       "      <td>-0.009431</td>\n",
       "      <td>0.798278</td>\n",
       "      <td>-0.137458</td>\n",
       "      <td>0.141267</td>\n",
       "      <td>-0.206010</td>\n",
       "      <td>0.502292</td>\n",
       "      <td>0.219422</td>\n",
       "      <td>0.215153</td>\n",
       "      <td>69.99</td>\n",
       "      <td>0</td>\n",
       "    </tr>\n",
       "    <tr>\n",
       "      <th>...</th>\n",
       "      <td>...</td>\n",
       "      <td>...</td>\n",
       "      <td>...</td>\n",
       "      <td>...</td>\n",
       "      <td>...</td>\n",
       "      <td>...</td>\n",
       "      <td>...</td>\n",
       "      <td>...</td>\n",
       "      <td>...</td>\n",
       "      <td>...</td>\n",
       "      <td>...</td>\n",
       "      <td>...</td>\n",
       "      <td>...</td>\n",
       "      <td>...</td>\n",
       "      <td>...</td>\n",
       "      <td>...</td>\n",
       "      <td>...</td>\n",
       "      <td>...</td>\n",
       "      <td>...</td>\n",
       "      <td>...</td>\n",
       "      <td>...</td>\n",
       "    </tr>\n",
       "    <tr>\n",
       "      <th>284802</th>\n",
       "      <td>172786.0</td>\n",
       "      <td>-11.881118</td>\n",
       "      <td>10.071785</td>\n",
       "      <td>-9.834783</td>\n",
       "      <td>-2.066656</td>\n",
       "      <td>-5.364473</td>\n",
       "      <td>-2.606837</td>\n",
       "      <td>-4.918215</td>\n",
       "      <td>7.305334</td>\n",
       "      <td>1.914428</td>\n",
       "      <td>...</td>\n",
       "      <td>0.213454</td>\n",
       "      <td>0.111864</td>\n",
       "      <td>1.014480</td>\n",
       "      <td>-0.509348</td>\n",
       "      <td>1.436807</td>\n",
       "      <td>0.250034</td>\n",
       "      <td>0.943651</td>\n",
       "      <td>0.823731</td>\n",
       "      <td>0.77</td>\n",
       "      <td>0</td>\n",
       "    </tr>\n",
       "    <tr>\n",
       "      <th>284803</th>\n",
       "      <td>172787.0</td>\n",
       "      <td>-0.732789</td>\n",
       "      <td>-0.055080</td>\n",
       "      <td>2.035030</td>\n",
       "      <td>-0.738589</td>\n",
       "      <td>0.868229</td>\n",
       "      <td>1.058415</td>\n",
       "      <td>0.024330</td>\n",
       "      <td>0.294869</td>\n",
       "      <td>0.584800</td>\n",
       "      <td>...</td>\n",
       "      <td>0.214205</td>\n",
       "      <td>0.924384</td>\n",
       "      <td>0.012463</td>\n",
       "      <td>-1.016226</td>\n",
       "      <td>-0.606624</td>\n",
       "      <td>-0.395255</td>\n",
       "      <td>0.068472</td>\n",
       "      <td>-0.053527</td>\n",
       "      <td>24.79</td>\n",
       "      <td>0</td>\n",
       "    </tr>\n",
       "    <tr>\n",
       "      <th>284804</th>\n",
       "      <td>172788.0</td>\n",
       "      <td>1.919565</td>\n",
       "      <td>-0.301254</td>\n",
       "      <td>-3.249640</td>\n",
       "      <td>-0.557828</td>\n",
       "      <td>2.630515</td>\n",
       "      <td>3.031260</td>\n",
       "      <td>-0.296827</td>\n",
       "      <td>0.708417</td>\n",
       "      <td>0.432454</td>\n",
       "      <td>...</td>\n",
       "      <td>0.232045</td>\n",
       "      <td>0.578229</td>\n",
       "      <td>-0.037501</td>\n",
       "      <td>0.640134</td>\n",
       "      <td>0.265745</td>\n",
       "      <td>-0.087371</td>\n",
       "      <td>0.004455</td>\n",
       "      <td>-0.026561</td>\n",
       "      <td>67.88</td>\n",
       "      <td>0</td>\n",
       "    </tr>\n",
       "    <tr>\n",
       "      <th>284805</th>\n",
       "      <td>172788.0</td>\n",
       "      <td>-0.240440</td>\n",
       "      <td>0.530483</td>\n",
       "      <td>0.702510</td>\n",
       "      <td>0.689799</td>\n",
       "      <td>-0.377961</td>\n",
       "      <td>0.623708</td>\n",
       "      <td>-0.686180</td>\n",
       "      <td>0.679145</td>\n",
       "      <td>0.392087</td>\n",
       "      <td>...</td>\n",
       "      <td>0.265245</td>\n",
       "      <td>0.800049</td>\n",
       "      <td>-0.163298</td>\n",
       "      <td>0.123205</td>\n",
       "      <td>-0.569159</td>\n",
       "      <td>0.546668</td>\n",
       "      <td>0.108821</td>\n",
       "      <td>0.104533</td>\n",
       "      <td>10.00</td>\n",
       "      <td>0</td>\n",
       "    </tr>\n",
       "    <tr>\n",
       "      <th>284806</th>\n",
       "      <td>172792.0</td>\n",
       "      <td>-0.533413</td>\n",
       "      <td>-0.189733</td>\n",
       "      <td>0.703337</td>\n",
       "      <td>-0.506271</td>\n",
       "      <td>-0.012546</td>\n",
       "      <td>-0.649617</td>\n",
       "      <td>1.577006</td>\n",
       "      <td>-0.414650</td>\n",
       "      <td>0.486180</td>\n",
       "      <td>...</td>\n",
       "      <td>0.261057</td>\n",
       "      <td>0.643078</td>\n",
       "      <td>0.376777</td>\n",
       "      <td>0.008797</td>\n",
       "      <td>-0.473649</td>\n",
       "      <td>-0.818267</td>\n",
       "      <td>-0.002415</td>\n",
       "      <td>0.013649</td>\n",
       "      <td>217.00</td>\n",
       "      <td>0</td>\n",
       "    </tr>\n",
       "  </tbody>\n",
       "</table>\n",
       "<p>283726 rows × 31 columns</p>\n",
       "</div>"
      ],
      "text/plain": [
       "            Time         V1         V2        V3        V4        V5  \\\n",
       "0            0.0  -1.359807  -0.072781  2.536347  1.378155 -0.338321   \n",
       "1            0.0   1.191857   0.266151  0.166480  0.448154  0.060018   \n",
       "2            1.0  -1.358354  -1.340163  1.773209  0.379780 -0.503198   \n",
       "3            1.0  -0.966272  -0.185226  1.792993 -0.863291 -0.010309   \n",
       "4            2.0  -1.158233   0.877737  1.548718  0.403034 -0.407193   \n",
       "...          ...        ...        ...       ...       ...       ...   \n",
       "284802  172786.0 -11.881118  10.071785 -9.834783 -2.066656 -5.364473   \n",
       "284803  172787.0  -0.732789  -0.055080  2.035030 -0.738589  0.868229   \n",
       "284804  172788.0   1.919565  -0.301254 -3.249640 -0.557828  2.630515   \n",
       "284805  172788.0  -0.240440   0.530483  0.702510  0.689799 -0.377961   \n",
       "284806  172792.0  -0.533413  -0.189733  0.703337 -0.506271 -0.012546   \n",
       "\n",
       "              V6        V7        V8        V9  ...       V21       V22  \\\n",
       "0       0.462388  0.239599  0.098698  0.363787  ... -0.018307  0.277838   \n",
       "1      -0.082361 -0.078803  0.085102 -0.255425  ... -0.225775 -0.638672   \n",
       "2       1.800499  0.791461  0.247676 -1.514654  ...  0.247998  0.771679   \n",
       "3       1.247203  0.237609  0.377436 -1.387024  ... -0.108300  0.005274   \n",
       "4       0.095921  0.592941 -0.270533  0.817739  ... -0.009431  0.798278   \n",
       "...          ...       ...       ...       ...  ...       ...       ...   \n",
       "284802 -2.606837 -4.918215  7.305334  1.914428  ...  0.213454  0.111864   \n",
       "284803  1.058415  0.024330  0.294869  0.584800  ...  0.214205  0.924384   \n",
       "284804  3.031260 -0.296827  0.708417  0.432454  ...  0.232045  0.578229   \n",
       "284805  0.623708 -0.686180  0.679145  0.392087  ...  0.265245  0.800049   \n",
       "284806 -0.649617  1.577006 -0.414650  0.486180  ...  0.261057  0.643078   \n",
       "\n",
       "             V23       V24       V25       V26       V27       V28  Amount  \\\n",
       "0      -0.110474  0.066928  0.128539 -0.189115  0.133558 -0.021053  149.62   \n",
       "1       0.101288 -0.339846  0.167170  0.125895 -0.008983  0.014724    2.69   \n",
       "2       0.909412 -0.689281 -0.327642 -0.139097 -0.055353 -0.059752  378.66   \n",
       "3      -0.190321 -1.175575  0.647376 -0.221929  0.062723  0.061458  123.50   \n",
       "4      -0.137458  0.141267 -0.206010  0.502292  0.219422  0.215153   69.99   \n",
       "...          ...       ...       ...       ...       ...       ...     ...   \n",
       "284802  1.014480 -0.509348  1.436807  0.250034  0.943651  0.823731    0.77   \n",
       "284803  0.012463 -1.016226 -0.606624 -0.395255  0.068472 -0.053527   24.79   \n",
       "284804 -0.037501  0.640134  0.265745 -0.087371  0.004455 -0.026561   67.88   \n",
       "284805 -0.163298  0.123205 -0.569159  0.546668  0.108821  0.104533   10.00   \n",
       "284806  0.376777  0.008797 -0.473649 -0.818267 -0.002415  0.013649  217.00   \n",
       "\n",
       "        Class  \n",
       "0           0  \n",
       "1           0  \n",
       "2           0  \n",
       "3           0  \n",
       "4           0  \n",
       "...       ...  \n",
       "284802      0  \n",
       "284803      0  \n",
       "284804      0  \n",
       "284805      0  \n",
       "284806      0  \n",
       "\n",
       "[283726 rows x 31 columns]"
      ]
     },
     "execution_count": 7,
     "metadata": {},
     "output_type": "execute_result"
    }
   ],
   "source": [
    "#dropping duplicates\n",
    "df.drop_duplicates()"
   ]
  },
  {
   "cell_type": "code",
   "execution_count": 8,
   "id": "70fe0e9a",
   "metadata": {
    "execution": {
     "iopub.execute_input": "2022-10-16T13:39:56.185871Z",
     "iopub.status.busy": "2022-10-16T13:39:56.185428Z",
     "iopub.status.idle": "2022-10-16T13:39:56.228091Z",
     "shell.execute_reply": "2022-10-16T13:39:56.226533Z"
    },
    "papermill": {
     "duration": 0.059795,
     "end_time": "2022-10-16T13:39:56.230745",
     "exception": false,
     "start_time": "2022-10-16T13:39:56.170950",
     "status": "completed"
    },
    "tags": []
   },
   "outputs": [
    {
     "name": "stdout",
     "output_type": "stream",
     "text": [
      "<class 'pandas.core.frame.DataFrame'>\n",
      "RangeIndex: 284807 entries, 0 to 284806\n",
      "Data columns (total 31 columns):\n",
      " #   Column  Non-Null Count   Dtype  \n",
      "---  ------  --------------   -----  \n",
      " 0   Time    284807 non-null  float64\n",
      " 1   V1      284807 non-null  float64\n",
      " 2   V2      284807 non-null  float64\n",
      " 3   V3      284807 non-null  float64\n",
      " 4   V4      284807 non-null  float64\n",
      " 5   V5      284807 non-null  float64\n",
      " 6   V6      284807 non-null  float64\n",
      " 7   V7      284807 non-null  float64\n",
      " 8   V8      284807 non-null  float64\n",
      " 9   V9      284807 non-null  float64\n",
      " 10  V10     284807 non-null  float64\n",
      " 11  V11     284807 non-null  float64\n",
      " 12  V12     284807 non-null  float64\n",
      " 13  V13     284807 non-null  float64\n",
      " 14  V14     284807 non-null  float64\n",
      " 15  V15     284807 non-null  float64\n",
      " 16  V16     284807 non-null  float64\n",
      " 17  V17     284807 non-null  float64\n",
      " 18  V18     284807 non-null  float64\n",
      " 19  V19     284807 non-null  float64\n",
      " 20  V20     284807 non-null  float64\n",
      " 21  V21     284807 non-null  float64\n",
      " 22  V22     284807 non-null  float64\n",
      " 23  V23     284807 non-null  float64\n",
      " 24  V24     284807 non-null  float64\n",
      " 25  V25     284807 non-null  float64\n",
      " 26  V26     284807 non-null  float64\n",
      " 27  V27     284807 non-null  float64\n",
      " 28  V28     284807 non-null  float64\n",
      " 29  Amount  284807 non-null  float64\n",
      " 30  Class   284807 non-null  int64  \n",
      "dtypes: float64(30), int64(1)\n",
      "memory usage: 67.4 MB\n"
     ]
    }
   ],
   "source": [
    "df.info()"
   ]
  },
  {
   "cell_type": "code",
   "execution_count": 9,
   "id": "a6f68ba2",
   "metadata": {
    "execution": {
     "iopub.execute_input": "2022-10-16T13:39:56.257557Z",
     "iopub.status.busy": "2022-10-16T13:39:56.256814Z",
     "iopub.status.idle": "2022-10-16T13:39:56.497469Z",
     "shell.execute_reply": "2022-10-16T13:39:56.496614Z"
    },
    "papermill": {
     "duration": 0.256814,
     "end_time": "2022-10-16T13:39:56.499823",
     "exception": false,
     "start_time": "2022-10-16T13:39:56.243009",
     "status": "completed"
    },
    "tags": []
   },
   "outputs": [
    {
     "data": {
      "text/plain": [
       "<AxesSubplot:>"
      ]
     },
     "execution_count": 9,
     "metadata": {},
     "output_type": "execute_result"
    },
    {
     "data": {
      "image/png": "[encoded data removed]",
      "text/plain": [
       "<Figure size 432x288 with 1 Axes>"
      ]
     },
     "metadata": {
      "needs_background": "light"
     },
     "output_type": "display_data"
    }
   ],
   "source": [
    "df[\"Class\"].value_counts().plot(kind='bar')\n"
   ]
  },
  {
   "cell_type": "code",
   "execution_count": 10,
   "id": "c152f572",
   "metadata": {
    "execution": {
     "iopub.execute_input": "2022-10-16T13:39:56.526807Z",
     "iopub.status.busy": "2022-10-16T13:39:56.525675Z",
     "iopub.status.idle": "2022-10-16T13:39:56.537015Z",
     "shell.execute_reply": "2022-10-16T13:39:56.536042Z"
    },
    "papermill": {
     "duration": 0.026821,
     "end_time": "2022-10-16T13:39:56.539307",
     "exception": false,
     "start_time": "2022-10-16T13:39:56.512486",
     "status": "completed"
    },
    "tags": []
   },
   "outputs": [
    {
     "data": {
      "text/plain": [
       "0    284315\n",
       "1       492\n",
       "Name: Class, dtype: int64"
      ]
     },
     "execution_count": 10,
     "metadata": {},
     "output_type": "execute_result"
    }
   ],
   "source": [
    "df.Class.value_counts()"
   ]
  },
  {
   "cell_type": "markdown",
   "id": "5e29fcd7",
   "metadata": {
    "papermill": {
     "duration": 0.011825,
     "end_time": "2022-10-16T13:39:56.563269",
     "exception": false,
     "start_time": "2022-10-16T13:39:56.551444",
     "status": "completed"
    },
    "tags": []
   },
   "source": [
    "Massive imbalance where 0 represents legit cases and 1 represents fraudelent transactions.\n",
    "You can use **SMOTE()** to oversample and generate equal samples for fraudelent transactions which is a better option although i am going to to undersample legit transactions and save computational power because I am on a Potato. :) \n",
    "\n",
    "I will also seperate the data according to their class for further analysis"
   ]
  },
  {
   "cell_type": "code",
   "execution_count": 11,
   "id": "2273ba84",
   "metadata": {
    "execution": {
     "iopub.execute_input": "2022-10-16T13:39:56.589996Z",
     "iopub.status.busy": "2022-10-16T13:39:56.589595Z",
     "iopub.status.idle": "2022-10-16T13:39:56.645805Z",
     "shell.execute_reply": "2022-10-16T13:39:56.644634Z"
    },
    "papermill": {
     "duration": 0.072445,
     "end_time": "2022-10-16T13:39:56.648418",
     "exception": false,
     "start_time": "2022-10-16T13:39:56.575973",
     "status": "completed"
    },
    "tags": []
   },
   "outputs": [
    {
     "data": {
      "text/plain": [
       "((284315, 31), (492, 31))"
      ]
     },
     "execution_count": 11,
     "metadata": {},
     "output_type": "execute_result"
    }
   ],
   "source": [
    "legit_df = df[df[\"Class\"]== 0 ]\n",
    "fraud_df = df[df[\"Class\"]== 1]\n",
    "\n",
    "legit_df.shape , fraud_df.shape"
   ]
  },
  {
   "cell_type": "code",
   "execution_count": 12,
   "id": "90673abb",
   "metadata": {
    "execution": {
     "iopub.execute_input": "2022-10-16T13:39:56.675103Z",
     "iopub.status.busy": "2022-10-16T13:39:56.674329Z",
     "iopub.status.idle": "2022-10-16T13:39:56.700325Z",
     "shell.execute_reply": "2022-10-16T13:39:56.699169Z"
    },
    "papermill": {
     "duration": 0.042137,
     "end_time": "2022-10-16T13:39:56.702754",
     "exception": false,
     "start_time": "2022-10-16T13:39:56.660617",
     "status": "completed"
    },
    "tags": []
   },
   "outputs": [
    {
     "data": {
      "text/plain": [
       "count    284315.000000\n",
       "mean         88.291022\n",
       "std         250.105092\n",
       "min           0.000000\n",
       "25%           5.650000\n",
       "50%          22.000000\n",
       "75%          77.050000\n",
       "max       25691.160000\n",
       "Name: Amount, dtype: float64"
      ]
     },
     "execution_count": 12,
     "metadata": {},
     "output_type": "execute_result"
    }
   ],
   "source": [
    "#some statistical analysis \n",
    "legit_df.Amount.describe()"
   ]
  },
  {
   "cell_type": "markdown",
   "id": "b993b1e4",
   "metadata": {
    "papermill": {
     "duration": 0.011848,
     "end_time": "2022-10-16T13:39:56.727071",
     "exception": false,
     "start_time": "2022-10-16T13:39:56.715223",
     "status": "completed"
    },
    "tags": []
   },
   "source": [
    "- There were some null transactions and the highest transaction was more than 25k\n",
    "- 75% of the transactions are below 77 \n"
   ]
  },
  {
   "cell_type": "code",
   "execution_count": 13,
   "id": "280add11",
   "metadata": {
    "execution": {
     "iopub.execute_input": "2022-10-16T13:39:56.753881Z",
     "iopub.status.busy": "2022-10-16T13:39:56.753217Z",
     "iopub.status.idle": "2022-10-16T13:39:56.763536Z",
     "shell.execute_reply": "2022-10-16T13:39:56.762467Z"
    },
    "papermill": {
     "duration": 0.026415,
     "end_time": "2022-10-16T13:39:56.765733",
     "exception": false,
     "start_time": "2022-10-16T13:39:56.739318",
     "status": "completed"
    },
    "tags": []
   },
   "outputs": [
    {
     "data": {
      "text/plain": [
       "count     492.000000\n",
       "mean      122.211321\n",
       "std       256.683288\n",
       "min         0.000000\n",
       "25%         1.000000\n",
       "50%         9.250000\n",
       "75%       105.890000\n",
       "max      2125.870000\n",
       "Name: Amount, dtype: float64"
      ]
     },
     "execution_count": 13,
     "metadata": {},
     "output_type": "execute_result"
    }
   ],
   "source": [
    "fraud_df.Amount.describe()"
   ]
  },
  {
   "cell_type": "markdown",
   "id": "ed7e3ea4",
   "metadata": {
    "papermill": {
     "duration": 0.0121,
     "end_time": "2022-10-16T13:39:56.790247",
     "exception": false,
     "start_time": "2022-10-16T13:39:56.778147",
     "status": "completed"
    },
    "tags": []
   },
   "source": [
    "- The max amount lost in fraud was 2125 while interestingly there are some null transactions which are considered to be fraudelent.\n",
    "- 75% of the transactions are below 105."
   ]
  },
  {
   "cell_type": "code",
   "execution_count": 14,
   "id": "99e521a8",
   "metadata": {
    "execution": {
     "iopub.execute_input": "2022-10-16T13:39:56.817475Z",
     "iopub.status.busy": "2022-10-16T13:39:56.816809Z",
     "iopub.status.idle": "2022-10-16T13:39:56.959892Z",
     "shell.execute_reply": "2022-10-16T13:39:56.958467Z"
    },
    "papermill": {
     "duration": 0.161311,
     "end_time": "2022-10-16T13:39:56.964065",
     "exception": false,
     "start_time": "2022-10-16T13:39:56.802754",
     "status": "completed"
    },
    "tags": []
   },
   "outputs": [
    {
     "data": {
      "text/html": [
       "<div>\n",
       "<style scoped>\n",
       "    .dataframe tbody tr th:only-of-type {\n",
       "        vertical-align: middle;\n",
       "    }\n",
       "\n",
       "    .dataframe tbody tr th {\n",
       "        vertical-align: top;\n",
       "    }\n",
       "\n",
       "    .dataframe thead th {\n",
       "        text-align: right;\n",
       "    }\n",
       "</style>\n",
       "<table border=\"1\" class=\"dataframe\">\n",
       "  <thead>\n",
       "    <tr style=\"text-align: right;\">\n",
       "      <th></th>\n",
       "      <th>Time</th>\n",
       "      <th>V1</th>\n",
       "      <th>V2</th>\n",
       "      <th>V3</th>\n",
       "      <th>V4</th>\n",
       "      <th>V5</th>\n",
       "      <th>V6</th>\n",
       "      <th>V7</th>\n",
       "      <th>V8</th>\n",
       "      <th>V9</th>\n",
       "      <th>...</th>\n",
       "      <th>V20</th>\n",
       "      <th>V21</th>\n",
       "      <th>V22</th>\n",
       "      <th>V23</th>\n",
       "      <th>V24</th>\n",
       "      <th>V25</th>\n",
       "      <th>V26</th>\n",
       "      <th>V27</th>\n",
       "      <th>V28</th>\n",
       "      <th>Amount</th>\n",
       "    </tr>\n",
       "    <tr>\n",
       "      <th>Class</th>\n",
       "      <th></th>\n",
       "      <th></th>\n",
       "      <th></th>\n",
       "      <th></th>\n",
       "      <th></th>\n",
       "      <th></th>\n",
       "      <th></th>\n",
       "      <th></th>\n",
       "      <th></th>\n",
       "      <th></th>\n",
       "      <th></th>\n",
       "      <th></th>\n",
       "      <th></th>\n",
       "      <th></th>\n",
       "      <th></th>\n",
       "      <th></th>\n",
       "      <th></th>\n",
       "      <th></th>\n",
       "      <th></th>\n",
       "      <th></th>\n",
       "      <th></th>\n",
       "    </tr>\n",
       "  </thead>\n",
       "  <tbody>\n",
       "    <tr>\n",
       "      <th>0</th>\n",
       "      <td>94838.202258</td>\n",
       "      <td>0.008258</td>\n",
       "      <td>-0.006271</td>\n",
       "      <td>0.012171</td>\n",
       "      <td>-0.007860</td>\n",
       "      <td>0.005453</td>\n",
       "      <td>0.002419</td>\n",
       "      <td>0.009637</td>\n",
       "      <td>-0.000987</td>\n",
       "      <td>0.004467</td>\n",
       "      <td>...</td>\n",
       "      <td>-0.000644</td>\n",
       "      <td>-0.001235</td>\n",
       "      <td>-0.000024</td>\n",
       "      <td>0.000070</td>\n",
       "      <td>0.000182</td>\n",
       "      <td>-0.000072</td>\n",
       "      <td>-0.000089</td>\n",
       "      <td>-0.000295</td>\n",
       "      <td>-0.000131</td>\n",
       "      <td>88.291022</td>\n",
       "    </tr>\n",
       "    <tr>\n",
       "      <th>1</th>\n",
       "      <td>80746.806911</td>\n",
       "      <td>-4.771948</td>\n",
       "      <td>3.623778</td>\n",
       "      <td>-7.033281</td>\n",
       "      <td>4.542029</td>\n",
       "      <td>-3.151225</td>\n",
       "      <td>-1.397737</td>\n",
       "      <td>-5.568731</td>\n",
       "      <td>0.570636</td>\n",
       "      <td>-2.581123</td>\n",
       "      <td>...</td>\n",
       "      <td>0.372319</td>\n",
       "      <td>0.713588</td>\n",
       "      <td>0.014049</td>\n",
       "      <td>-0.040308</td>\n",
       "      <td>-0.105130</td>\n",
       "      <td>0.041449</td>\n",
       "      <td>0.051648</td>\n",
       "      <td>0.170575</td>\n",
       "      <td>0.075667</td>\n",
       "      <td>122.211321</td>\n",
       "    </tr>\n",
       "  </tbody>\n",
       "</table>\n",
       "<p>2 rows × 30 columns</p>\n",
       "</div>"
      ],
      "text/plain": [
       "               Time        V1        V2        V3        V4        V5  \\\n",
       "Class                                                                   \n",
       "0      94838.202258  0.008258 -0.006271  0.012171 -0.007860  0.005453   \n",
       "1      80746.806911 -4.771948  3.623778 -7.033281  4.542029 -3.151225   \n",
       "\n",
       "             V6        V7        V8        V9  ...       V20       V21  \\\n",
       "Class                                          ...                       \n",
       "0      0.002419  0.009637 -0.000987  0.004467  ... -0.000644 -0.001235   \n",
       "1     -1.397737 -5.568731  0.570636 -2.581123  ...  0.372319  0.713588   \n",
       "\n",
       "            V22       V23       V24       V25       V26       V27       V28  \\\n",
       "Class                                                                         \n",
       "0     -0.000024  0.000070  0.000182 -0.000072 -0.000089 -0.000295 -0.000131   \n",
       "1      0.014049 -0.040308 -0.105130  0.041449  0.051648  0.170575  0.075667   \n",
       "\n",
       "           Amount  \n",
       "Class              \n",
       "0       88.291022  \n",
       "1      122.211321  \n",
       "\n",
       "[2 rows x 30 columns]"
      ]
     },
     "execution_count": 14,
     "metadata": {},
     "output_type": "execute_result"
    }
   ],
   "source": [
    "#compare features for both classes \n",
    "df.groupby('Class').mean()"
   ]
  },
  {
   "cell_type": "markdown",
   "id": "5bb90f9d",
   "metadata": {
    "papermill": {
     "duration": 0.015568,
     "end_time": "2022-10-16T13:39:56.994992",
     "exception": false,
     "start_time": "2022-10-16T13:39:56.979424",
     "status": "completed"
    },
    "tags": []
   },
   "source": [
    "## Undersampling - Handling the Imbalance\n",
    "Building a sample dataset from original so that both classes of legit and fraudelent transactions have similar samples.\n",
    "\n",
    "Since we have 492 samples of fraud cases, I will randomly pick 492 legit samples and create a dataset with almost 1000 samples which is kinda decent."
   ]
  },
  {
   "cell_type": "code",
   "execution_count": 15,
   "id": "fa110016",
   "metadata": {
    "execution": {
     "iopub.execute_input": "2022-10-16T13:39:57.028449Z",
     "iopub.status.busy": "2022-10-16T13:39:57.028053Z",
     "iopub.status.idle": "2022-10-16T13:39:57.042630Z",
     "shell.execute_reply": "2022-10-16T13:39:57.041662Z"
    },
    "papermill": {
     "duration": 0.031219,
     "end_time": "2022-10-16T13:39:57.044743",
     "exception": false,
     "start_time": "2022-10-16T13:39:57.013524",
     "status": "completed"
    },
    "tags": []
   },
   "outputs": [],
   "source": [
    "legit_sample = legit_df.sample(492)"
   ]
  },
  {
   "cell_type": "code",
   "execution_count": 16,
   "id": "624f7747",
   "metadata": {
    "execution": {
     "iopub.execute_input": "2022-10-16T13:39:57.072617Z",
     "iopub.status.busy": "2022-10-16T13:39:57.072185Z",
     "iopub.status.idle": "2022-10-16T13:39:57.080638Z",
     "shell.execute_reply": "2022-10-16T13:39:57.079532Z"
    },
    "papermill": {
     "duration": 0.025303,
     "end_time": "2022-10-16T13:39:57.083095",
     "exception": false,
     "start_time": "2022-10-16T13:39:57.057792",
     "status": "completed"
    },
    "tags": []
   },
   "outputs": [
    {
     "data": {
      "text/plain": [
       "(984, 31)"
      ]
     },
     "execution_count": 16,
     "metadata": {},
     "output_type": "execute_result"
    }
   ],
   "source": [
    "#concatenating both datasets\n",
    "new_df = pd.concat([legit_sample,fraud_df], axis=0)\n",
    "new_df.shape"
   ]
  },
  {
   "cell_type": "code",
   "execution_count": 17,
   "id": "80cbbc57",
   "metadata": {
    "execution": {
     "iopub.execute_input": "2022-10-16T13:39:57.112432Z",
     "iopub.status.busy": "2022-10-16T13:39:57.111982Z",
     "iopub.status.idle": "2022-10-16T13:39:57.120979Z",
     "shell.execute_reply": "2022-10-16T13:39:57.119826Z"
    },
    "papermill": {
     "duration": 0.025968,
     "end_time": "2022-10-16T13:39:57.123241",
     "exception": false,
     "start_time": "2022-10-16T13:39:57.097273",
     "status": "completed"
    },
    "tags": []
   },
   "outputs": [
    {
     "data": {
      "text/plain": [
       "0    492\n",
       "1    492\n",
       "Name: Class, dtype: int64"
      ]
     },
     "execution_count": 17,
     "metadata": {},
     "output_type": "execute_result"
    }
   ],
   "source": [
    "new_df.Class.value_counts()"
   ]
  },
  {
   "cell_type": "markdown",
   "id": "3c5717e0",
   "metadata": {
    "papermill": {
     "duration": 0.012779,
     "end_time": "2022-10-16T13:39:57.149345",
     "exception": false,
     "start_time": "2022-10-16T13:39:57.136566",
     "status": "completed"
    },
    "tags": []
   },
   "source": [
    "Looks pretty balanced to mee.."
   ]
  },
  {
   "cell_type": "markdown",
   "id": "25624160",
   "metadata": {
    "papermill": {
     "duration": 0.012854,
     "end_time": "2022-10-16T13:39:57.175849",
     "exception": false,
     "start_time": "2022-10-16T13:39:57.162995",
     "status": "completed"
    },
    "tags": []
   },
   "source": [
    "# 2. Splitting Dataset into Features and Label"
   ]
  },
  {
   "cell_type": "code",
   "execution_count": 18,
   "id": "7ab923ac",
   "metadata": {
    "execution": {
     "iopub.execute_input": "2022-10-16T13:39:57.205554Z",
     "iopub.status.busy": "2022-10-16T13:39:57.204543Z",
     "iopub.status.idle": "2022-10-16T13:39:57.213490Z",
     "shell.execute_reply": "2022-10-16T13:39:57.212505Z"
    },
    "papermill": {
     "duration": 0.02621,
     "end_time": "2022-10-16T13:39:57.215643",
     "exception": false,
     "start_time": "2022-10-16T13:39:57.189433",
     "status": "completed"
    },
    "tags": []
   },
   "outputs": [
    {
     "data": {
      "text/plain": [
       "((984, 30), (984,))"
      ]
     },
     "execution_count": 18,
     "metadata": {},
     "output_type": "execute_result"
    }
   ],
   "source": [
    "x = new_df.drop(\"Class\", axis = 1)\n",
    "y = new_df[\"Class\"]\n",
    "x.shape , y.shape"
   ]
  },
  {
   "cell_type": "code",
   "execution_count": 19,
   "id": "d4d41b49",
   "metadata": {
    "execution": {
     "iopub.execute_input": "2022-10-16T13:39:57.243903Z",
     "iopub.status.busy": "2022-10-16T13:39:57.243236Z",
     "iopub.status.idle": "2022-10-16T13:39:57.250972Z",
     "shell.execute_reply": "2022-10-16T13:39:57.250121Z"
    },
    "papermill": {
     "duration": 0.024402,
     "end_time": "2022-10-16T13:39:57.253209",
     "exception": false,
     "start_time": "2022-10-16T13:39:57.228807",
     "status": "completed"
    },
    "tags": []
   },
   "outputs": [],
   "source": [
    "#splitting dataset into train and test splits\n",
    "x_train,x_test,y_train,y_test = train_test_split(x,y,test_size=0.35,random_state=42,stratify=y)"
   ]
  },
  {
   "cell_type": "code",
   "execution_count": 20,
   "id": "54ea0096",
   "metadata": {
    "execution": {
     "iopub.execute_input": "2022-10-16T13:39:57.281584Z",
     "iopub.status.busy": "2022-10-16T13:39:57.280938Z",
     "iopub.status.idle": "2022-10-16T13:39:57.288290Z",
     "shell.execute_reply": "2022-10-16T13:39:57.287276Z"
    },
    "papermill": {
     "duration": 0.024279,
     "end_time": "2022-10-16T13:39:57.290634",
     "exception": false,
     "start_time": "2022-10-16T13:39:57.266355",
     "status": "completed"
    },
    "tags": []
   },
   "outputs": [
    {
     "data": {
      "text/plain": [
       "((639, 30), (639,), (345, 30), (345,))"
      ]
     },
     "execution_count": 20,
     "metadata": {},
     "output_type": "execute_result"
    }
   ],
   "source": [
    "x_train.shape , y_train.shape , x_test.shape , y_test.shape"
   ]
  },
  {
   "cell_type": "code",
   "execution_count": 21,
   "id": "5befa67e",
   "metadata": {
    "execution": {
     "iopub.execute_input": "2022-10-16T13:39:57.319081Z",
     "iopub.status.busy": "2022-10-16T13:39:57.318626Z",
     "iopub.status.idle": "2022-10-16T13:39:57.351007Z",
     "shell.execute_reply": "2022-10-16T13:39:57.349935Z"
    },
    "papermill": {
     "duration": 0.049105,
     "end_time": "2022-10-16T13:39:57.353086",
     "exception": false,
     "start_time": "2022-10-16T13:39:57.303981",
     "status": "completed"
    },
    "tags": []
   },
   "outputs": [
    {
     "data": {
      "text/html": [
       "<div>\n",
       "<style scoped>\n",
       "    .dataframe tbody tr th:only-of-type {\n",
       "        vertical-align: middle;\n",
       "    }\n",
       "\n",
       "    .dataframe tbody tr th {\n",
       "        vertical-align: top;\n",
       "    }\n",
       "\n",
       "    .dataframe thead th {\n",
       "        text-align: right;\n",
       "    }\n",
       "</style>\n",
       "<table border=\"1\" class=\"dataframe\">\n",
       "  <thead>\n",
       "    <tr style=\"text-align: right;\">\n",
       "      <th></th>\n",
       "      <th>Time</th>\n",
       "      <th>V1</th>\n",
       "      <th>V2</th>\n",
       "      <th>V3</th>\n",
       "      <th>V4</th>\n",
       "      <th>V5</th>\n",
       "      <th>V6</th>\n",
       "      <th>V7</th>\n",
       "      <th>V8</th>\n",
       "      <th>V9</th>\n",
       "      <th>...</th>\n",
       "      <th>V20</th>\n",
       "      <th>V21</th>\n",
       "      <th>V22</th>\n",
       "      <th>V23</th>\n",
       "      <th>V24</th>\n",
       "      <th>V25</th>\n",
       "      <th>V26</th>\n",
       "      <th>V27</th>\n",
       "      <th>V28</th>\n",
       "      <th>Amount</th>\n",
       "    </tr>\n",
       "  </thead>\n",
       "  <tbody>\n",
       "    <tr>\n",
       "      <th>154676</th>\n",
       "      <td>102542.0</td>\n",
       "      <td>-1.456876</td>\n",
       "      <td>3.740306</td>\n",
       "      <td>-7.404518</td>\n",
       "      <td>7.440964</td>\n",
       "      <td>-1.549878</td>\n",
       "      <td>-1.661697</td>\n",
       "      <td>-5.757213</td>\n",
       "      <td>1.615011</td>\n",
       "      <td>-2.194881</td>\n",
       "      <td>...</td>\n",
       "      <td>0.529557</td>\n",
       "      <td>0.957897</td>\n",
       "      <td>0.145339</td>\n",
       "      <td>-0.044704</td>\n",
       "      <td>-0.544962</td>\n",
       "      <td>-0.757757</td>\n",
       "      <td>-0.005352</td>\n",
       "      <td>0.318152</td>\n",
       "      <td>-0.323554</td>\n",
       "      <td>2.28</td>\n",
       "    </tr>\n",
       "    <tr>\n",
       "      <th>106998</th>\n",
       "      <td>70229.0</td>\n",
       "      <td>0.315642</td>\n",
       "      <td>1.636778</td>\n",
       "      <td>-1.519650</td>\n",
       "      <td>4.028571</td>\n",
       "      <td>-1.186794</td>\n",
       "      <td>-0.789813</td>\n",
       "      <td>-2.279807</td>\n",
       "      <td>0.472988</td>\n",
       "      <td>-1.657635</td>\n",
       "      <td>...</td>\n",
       "      <td>0.388885</td>\n",
       "      <td>0.345921</td>\n",
       "      <td>-0.108002</td>\n",
       "      <td>-0.165442</td>\n",
       "      <td>0.279895</td>\n",
       "      <td>0.808783</td>\n",
       "      <td>0.117363</td>\n",
       "      <td>0.589595</td>\n",
       "      <td>0.309064</td>\n",
       "      <td>3.79</td>\n",
       "    </tr>\n",
       "    <tr>\n",
       "      <th>80743</th>\n",
       "      <td>58633.0</td>\n",
       "      <td>1.160210</td>\n",
       "      <td>-0.497465</td>\n",
       "      <td>0.743233</td>\n",
       "      <td>0.091011</td>\n",
       "      <td>-0.768610</td>\n",
       "      <td>0.135666</td>\n",
       "      <td>-0.535254</td>\n",
       "      <td>0.043921</td>\n",
       "      <td>1.125161</td>\n",
       "      <td>...</td>\n",
       "      <td>0.122046</td>\n",
       "      <td>-0.244323</td>\n",
       "      <td>-0.526653</td>\n",
       "      <td>-0.084274</td>\n",
       "      <td>-0.342029</td>\n",
       "      <td>0.256599</td>\n",
       "      <td>0.985171</td>\n",
       "      <td>-0.040022</td>\n",
       "      <td>0.017770</td>\n",
       "      <td>65.97</td>\n",
       "    </tr>\n",
       "    <tr>\n",
       "      <th>43773</th>\n",
       "      <td>41646.0</td>\n",
       "      <td>-3.240187</td>\n",
       "      <td>2.978122</td>\n",
       "      <td>-4.162314</td>\n",
       "      <td>3.869124</td>\n",
       "      <td>-3.645256</td>\n",
       "      <td>-0.126271</td>\n",
       "      <td>-4.744730</td>\n",
       "      <td>-0.065331</td>\n",
       "      <td>-2.168366</td>\n",
       "      <td>...</td>\n",
       "      <td>-0.224043</td>\n",
       "      <td>2.601441</td>\n",
       "      <td>0.231910</td>\n",
       "      <td>-0.036490</td>\n",
       "      <td>0.042640</td>\n",
       "      <td>-0.438330</td>\n",
       "      <td>-0.125821</td>\n",
       "      <td>0.421300</td>\n",
       "      <td>0.003146</td>\n",
       "      <td>172.32</td>\n",
       "    </tr>\n",
       "    <tr>\n",
       "      <th>159565</th>\n",
       "      <td>112648.0</td>\n",
       "      <td>-0.335693</td>\n",
       "      <td>1.046446</td>\n",
       "      <td>-1.117622</td>\n",
       "      <td>-1.188177</td>\n",
       "      <td>1.314396</td>\n",
       "      <td>-1.284245</td>\n",
       "      <td>1.648186</td>\n",
       "      <td>-0.361401</td>\n",
       "      <td>-0.091884</td>\n",
       "      <td>...</td>\n",
       "      <td>0.059502</td>\n",
       "      <td>0.190624</td>\n",
       "      <td>0.742413</td>\n",
       "      <td>-0.180778</td>\n",
       "      <td>0.605775</td>\n",
       "      <td>-0.226153</td>\n",
       "      <td>0.072344</td>\n",
       "      <td>0.491201</td>\n",
       "      <td>0.352420</td>\n",
       "      <td>31.00</td>\n",
       "    </tr>\n",
       "    <tr>\n",
       "      <th>...</th>\n",
       "      <td>...</td>\n",
       "      <td>...</td>\n",
       "      <td>...</td>\n",
       "      <td>...</td>\n",
       "      <td>...</td>\n",
       "      <td>...</td>\n",
       "      <td>...</td>\n",
       "      <td>...</td>\n",
       "      <td>...</td>\n",
       "      <td>...</td>\n",
       "      <td>...</td>\n",
       "      <td>...</td>\n",
       "      <td>...</td>\n",
       "      <td>...</td>\n",
       "      <td>...</td>\n",
       "      <td>...</td>\n",
       "      <td>...</td>\n",
       "      <td>...</td>\n",
       "      <td>...</td>\n",
       "      <td>...</td>\n",
       "      <td>...</td>\n",
       "    </tr>\n",
       "    <tr>\n",
       "      <th>30496</th>\n",
       "      <td>35953.0</td>\n",
       "      <td>-4.844372</td>\n",
       "      <td>5.649439</td>\n",
       "      <td>-6.730396</td>\n",
       "      <td>5.252842</td>\n",
       "      <td>-4.409566</td>\n",
       "      <td>-1.740767</td>\n",
       "      <td>-6.311699</td>\n",
       "      <td>3.449167</td>\n",
       "      <td>-5.416284</td>\n",
       "      <td>...</td>\n",
       "      <td>0.284555</td>\n",
       "      <td>1.194888</td>\n",
       "      <td>-0.845753</td>\n",
       "      <td>0.190674</td>\n",
       "      <td>-0.216443</td>\n",
       "      <td>-0.325033</td>\n",
       "      <td>-0.270328</td>\n",
       "      <td>0.210214</td>\n",
       "      <td>0.391855</td>\n",
       "      <td>111.70</td>\n",
       "    </tr>\n",
       "    <tr>\n",
       "      <th>74496</th>\n",
       "      <td>55614.0</td>\n",
       "      <td>-7.347955</td>\n",
       "      <td>2.397041</td>\n",
       "      <td>-7.572356</td>\n",
       "      <td>5.177819</td>\n",
       "      <td>-2.854838</td>\n",
       "      <td>-1.795239</td>\n",
       "      <td>-8.783235</td>\n",
       "      <td>0.437157</td>\n",
       "      <td>-3.740598</td>\n",
       "      <td>...</td>\n",
       "      <td>0.073164</td>\n",
       "      <td>-0.175273</td>\n",
       "      <td>0.543325</td>\n",
       "      <td>-0.547955</td>\n",
       "      <td>-0.503722</td>\n",
       "      <td>-0.310933</td>\n",
       "      <td>-0.163986</td>\n",
       "      <td>1.197895</td>\n",
       "      <td>0.378187</td>\n",
       "      <td>0.83</td>\n",
       "    </tr>\n",
       "    <tr>\n",
       "      <th>15566</th>\n",
       "      <td>26961.0</td>\n",
       "      <td>-23.237920</td>\n",
       "      <td>13.487386</td>\n",
       "      <td>-25.188773</td>\n",
       "      <td>6.261733</td>\n",
       "      <td>-17.345188</td>\n",
       "      <td>-4.534989</td>\n",
       "      <td>-17.100492</td>\n",
       "      <td>15.374630</td>\n",
       "      <td>-3.845567</td>\n",
       "      <td>...</td>\n",
       "      <td>1.630787</td>\n",
       "      <td>1.769708</td>\n",
       "      <td>-1.691973</td>\n",
       "      <td>-1.045673</td>\n",
       "      <td>0.143386</td>\n",
       "      <td>1.611577</td>\n",
       "      <td>-0.221576</td>\n",
       "      <td>1.481233</td>\n",
       "      <td>0.438125</td>\n",
       "      <td>99.99</td>\n",
       "    </tr>\n",
       "    <tr>\n",
       "      <th>156297</th>\n",
       "      <td>107787.0</td>\n",
       "      <td>-0.533496</td>\n",
       "      <td>0.439824</td>\n",
       "      <td>1.549830</td>\n",
       "      <td>-0.012768</td>\n",
       "      <td>0.214217</td>\n",
       "      <td>0.009176</td>\n",
       "      <td>-0.185042</td>\n",
       "      <td>0.198860</td>\n",
       "      <td>1.707998</td>\n",
       "      <td>...</td>\n",
       "      <td>-0.178900</td>\n",
       "      <td>-0.166849</td>\n",
       "      <td>-0.317289</td>\n",
       "      <td>-0.086310</td>\n",
       "      <td>-0.621159</td>\n",
       "      <td>-0.588714</td>\n",
       "      <td>-0.793102</td>\n",
       "      <td>0.053192</td>\n",
       "      <td>0.164749</td>\n",
       "      <td>2.12</td>\n",
       "    </tr>\n",
       "    <tr>\n",
       "      <th>59539</th>\n",
       "      <td>48884.0</td>\n",
       "      <td>-2.139051</td>\n",
       "      <td>1.394368</td>\n",
       "      <td>-0.612035</td>\n",
       "      <td>1.049327</td>\n",
       "      <td>-1.162102</td>\n",
       "      <td>-0.768219</td>\n",
       "      <td>-1.997237</td>\n",
       "      <td>0.574997</td>\n",
       "      <td>-0.980832</td>\n",
       "      <td>...</td>\n",
       "      <td>0.025427</td>\n",
       "      <td>0.696955</td>\n",
       "      <td>0.740003</td>\n",
       "      <td>-0.155115</td>\n",
       "      <td>-0.050607</td>\n",
       "      <td>0.268368</td>\n",
       "      <td>-0.469433</td>\n",
       "      <td>-0.405814</td>\n",
       "      <td>-0.152171</td>\n",
       "      <td>19.73</td>\n",
       "    </tr>\n",
       "  </tbody>\n",
       "</table>\n",
       "<p>345 rows × 30 columns</p>\n",
       "</div>"
      ],
      "text/plain": [
       "            Time         V1         V2         V3        V4         V5  \\\n",
       "154676  102542.0  -1.456876   3.740306  -7.404518  7.440964  -1.549878   \n",
       "106998   70229.0   0.315642   1.636778  -1.519650  4.028571  -1.186794   \n",
       "80743    58633.0   1.160210  -0.497465   0.743233  0.091011  -0.768610   \n",
       "43773    41646.0  -3.240187   2.978122  -4.162314  3.869124  -3.645256   \n",
       "159565  112648.0  -0.335693   1.046446  -1.117622 -1.188177   1.314396   \n",
       "...          ...        ...        ...        ...       ...        ...   \n",
       "30496    35953.0  -4.844372   5.649439  -6.730396  5.252842  -4.409566   \n",
       "74496    55614.0  -7.347955   2.397041  -7.572356  5.177819  -2.854838   \n",
       "15566    26961.0 -23.237920  13.487386 -25.188773  6.261733 -17.345188   \n",
       "156297  107787.0  -0.533496   0.439824   1.549830 -0.012768   0.214217   \n",
       "59539    48884.0  -2.139051   1.394368  -0.612035  1.049327  -1.162102   \n",
       "\n",
       "              V6         V7         V8        V9  ...       V20       V21  \\\n",
       "154676 -1.661697  -5.757213   1.615011 -2.194881  ...  0.529557  0.957897   \n",
       "106998 -0.789813  -2.279807   0.472988 -1.657635  ...  0.388885  0.345921   \n",
       "80743   0.135666  -0.535254   0.043921  1.125161  ...  0.122046 -0.244323   \n",
       "43773  -0.126271  -4.744730  -0.065331 -2.168366  ... -0.224043  2.601441   \n",
       "159565 -1.284245   1.648186  -0.361401 -0.091884  ...  0.059502  0.190624   \n",
       "...          ...        ...        ...       ...  ...       ...       ...   \n",
       "30496  -1.740767  -6.311699   3.449167 -5.416284  ...  0.284555  1.194888   \n",
       "74496  -1.795239  -8.783235   0.437157 -3.740598  ...  0.073164 -0.175273   \n",
       "15566  -4.534989 -17.100492  15.374630 -3.845567  ...  1.630787  1.769708   \n",
       "156297  0.009176  -0.185042   0.198860  1.707998  ... -0.178900 -0.166849   \n",
       "59539  -0.768219  -1.997237   0.574997 -0.980832  ...  0.025427  0.696955   \n",
       "\n",
       "             V22       V23       V24       V25       V26       V27       V28  \\\n",
       "154676  0.145339 -0.044704 -0.544962 -0.757757 -0.005352  0.318152 -0.323554   \n",
       "106998 -0.108002 -0.165442  0.279895  0.808783  0.117363  0.589595  0.309064   \n",
       "80743  -0.526653 -0.084274 -0.342029  0.256599  0.985171 -0.040022  0.017770   \n",
       "43773   0.231910 -0.036490  0.042640 -0.438330 -0.125821  0.421300  0.003146   \n",
       "159565  0.742413 -0.180778  0.605775 -0.226153  0.072344  0.491201  0.352420   \n",
       "...          ...       ...       ...       ...       ...       ...       ...   \n",
       "30496  -0.845753  0.190674 -0.216443 -0.325033 -0.270328  0.210214  0.391855   \n",
       "74496   0.543325 -0.547955 -0.503722 -0.310933 -0.163986  1.197895  0.378187   \n",
       "15566  -1.691973 -1.045673  0.143386  1.611577 -0.221576  1.481233  0.438125   \n",
       "156297 -0.317289 -0.086310 -0.621159 -0.588714 -0.793102  0.053192  0.164749   \n",
       "59539   0.740003 -0.155115 -0.050607  0.268368 -0.469433 -0.405814 -0.152171   \n",
       "\n",
       "        Amount  \n",
       "154676    2.28  \n",
       "106998    3.79  \n",
       "80743    65.97  \n",
       "43773   172.32  \n",
       "159565   31.00  \n",
       "...        ...  \n",
       "30496   111.70  \n",
       "74496     0.83  \n",
       "15566    99.99  \n",
       "156297    2.12  \n",
       "59539    19.73  \n",
       "\n",
       "[345 rows x 30 columns]"
      ]
     },
     "execution_count": 21,
     "metadata": {},
     "output_type": "execute_result"
    }
   ],
   "source": [
    "x_test"
   ]
  },
  {
   "cell_type": "markdown",
   "id": "57a41509",
   "metadata": {
    "papermill": {
     "duration": 0.013244,
     "end_time": "2022-10-16T13:39:57.380047",
     "exception": false,
     "start_time": "2022-10-16T13:39:57.366803",
     "status": "completed"
    },
    "tags": []
   },
   "source": [
    "# 3. Feature Selection\n",
    "Selecting the most important features for the model. Actual feature selection can be even lengthy involving different f-tests like ANOVA and Mutual Information FS and they keep varying every time so its better to take an average of all the scores and then decide. \n",
    "\n",
    "To keep it simple, I am just going to use the mutual information test once which is calculated between two variables and measures the reduction of uncertainty of one variable given the value of the other variable. In short, tells us dependance of the features with our label. <br>\n",
    "For eg: If I know its Bright and Sunny, the uncertainty of a snowfall would be very low. "
   ]
  },
  {
   "cell_type": "code",
   "execution_count": 22,
   "id": "6275e308",
   "metadata": {
    "execution": {
     "iopub.execute_input": "2022-10-16T13:39:57.409796Z",
     "iopub.status.busy": "2022-10-16T13:39:57.408559Z",
     "iopub.status.idle": "2022-10-16T13:39:58.047955Z",
     "shell.execute_reply": "2022-10-16T13:39:58.046810Z"
    },
    "papermill": {
     "duration": 0.656997,
     "end_time": "2022-10-16T13:39:58.050720",
     "exception": false,
     "start_time": "2022-10-16T13:39:57.393723",
     "status": "completed"
    },
    "tags": []
   },
   "outputs": [
    {
     "name": "stdout",
     "output_type": "stream",
     "text": [
      "Feature 0: 0.135081\n",
      "Feature 1: 0.175977\n",
      "Feature 2: 0.263100\n",
      "Feature 3: 0.313784\n",
      "Feature 4: 0.359072\n",
      "Feature 5: 0.142589\n",
      "Feature 6: 0.175168\n",
      "Feature 7: 0.294436\n",
      "Feature 8: 0.138044\n",
      "Feature 9: 0.229092\n",
      "Feature 10: 0.424859\n",
      "Feature 11: 0.375469\n",
      "Feature 12: 0.390008\n",
      "Feature 13: 0.035973\n",
      "Feature 14: 0.458727\n",
      "Feature 15: 0.000000\n",
      "Feature 16: 0.359222\n",
      "Feature 17: 0.456700\n",
      "Feature 18: 0.225569\n",
      "Feature 19: 0.124256\n",
      "Feature 20: 0.122566\n",
      "Feature 21: 0.228860\n",
      "Feature 22: 0.018068\n",
      "Feature 23: 0.068396\n",
      "Feature 24: 0.046721\n",
      "Feature 25: 0.023200\n",
      "Feature 26: 0.032228\n",
      "Feature 27: 0.202298\n",
      "Feature 28: 0.146820\n",
      "Feature 29: 0.144149\n"
     ]
    },
    {
     "data": {
      "image/png": "[encoded data removed]",
      "text/plain": [
       "<Figure size 1440x576 with 1 Axes>"
      ]
     },
     "metadata": {
      "needs_background": "light"
     },
     "output_type": "display_data"
    }
   ],
   "source": [
    "mutual_info = mutual_info_classif(x_train, y_train, n_neighbors=5, copy = True)\n",
    "for i in range(len(mutual_info)):\n",
    "    print('Feature %d: %f' % (i, mutual_info[i]))\n",
    "# plot the scores\n",
    "plt.subplots(figsize=(20, 8))\n",
    "plt.bar([i for i in range(len(mutual_info))], mutual_info)\n",
    "x = np.arange(1,30 ,1)\n",
    "plt.xticks(x)\n",
    "plt.show()"
   ]
  },
  {
   "cell_type": "markdown",
   "id": "20c6bdcb",
   "metadata": {
    "papermill": {
     "duration": 0.013671,
     "end_time": "2022-10-16T13:39:58.078884",
     "exception": false,
     "start_time": "2022-10-16T13:39:58.065213",
     "status": "completed"
    },
    "tags": []
   },
   "source": [
    "I am going to consider 0.1 as my threshold. Therefore features 13 , 15 , 22-26 are excluded for my dataset. <br>\n",
    "Note: Again this is a very simple way of doing feature selection. Intense feature selection can take a week sometimes."
   ]
  },
  {
   "cell_type": "code",
   "execution_count": 23,
   "id": "93dbd376",
   "metadata": {
    "execution": {
     "iopub.execute_input": "2022-10-16T13:39:58.109132Z",
     "iopub.status.busy": "2022-10-16T13:39:58.108284Z",
     "iopub.status.idle": "2022-10-16T13:39:58.116449Z",
     "shell.execute_reply": "2022-10-16T13:39:58.115320Z"
    },
    "papermill": {
     "duration": 0.025639,
     "end_time": "2022-10-16T13:39:58.118533",
     "exception": false,
     "start_time": "2022-10-16T13:39:58.092894",
     "status": "completed"
    },
    "tags": []
   },
   "outputs": [
    {
     "data": {
      "text/plain": [
       "Index(['Time', 'V1', 'V2', 'V3', 'V4', 'V5', 'V6', 'V7', 'V8', 'V9', 'V10',\n",
       "       'V11', 'V12', 'V13', 'V14', 'V15', 'V16', 'V17', 'V18', 'V19', 'V20',\n",
       "       'V21', 'V22', 'V23', 'V24', 'V25', 'V26', 'V27', 'V28', 'Amount',\n",
       "       'Class'],\n",
       "      dtype='object')"
      ]
     },
     "execution_count": 23,
     "metadata": {},
     "output_type": "execute_result"
    }
   ],
   "source": [
    "new_df.columns"
   ]
  },
  {
   "cell_type": "code",
   "execution_count": 24,
   "id": "2af8c7af",
   "metadata": {
    "execution": {
     "iopub.execute_input": "2022-10-16T13:39:58.149236Z",
     "iopub.status.busy": "2022-10-16T13:39:58.148115Z",
     "iopub.status.idle": "2022-10-16T13:39:58.156871Z",
     "shell.execute_reply": "2022-10-16T13:39:58.155734Z"
    },
    "papermill": {
     "duration": 0.026348,
     "end_time": "2022-10-16T13:39:58.159031",
     "exception": false,
     "start_time": "2022-10-16T13:39:58.132683",
     "status": "completed"
    },
    "tags": []
   },
   "outputs": [
    {
     "data": {
      "text/plain": [
       "(984, 24)"
      ]
     },
     "execution_count": 24,
     "metadata": {},
     "output_type": "execute_result"
    }
   ],
   "source": [
    "#defining the new feature set\n",
    "x_fs = new_df.drop(['V13','V15','V22','V23','V24','V25','V26'],axis=1)\n",
    "x_fs.shape"
   ]
  },
  {
   "cell_type": "code",
   "execution_count": 25,
   "id": "2fc1d5b6",
   "metadata": {
    "execution": {
     "iopub.execute_input": "2022-10-16T13:39:58.189872Z",
     "iopub.status.busy": "2022-10-16T13:39:58.189438Z",
     "iopub.status.idle": "2022-10-16T13:39:58.199587Z",
     "shell.execute_reply": "2022-10-16T13:39:58.198756Z"
    },
    "papermill": {
     "duration": 0.028453,
     "end_time": "2022-10-16T13:39:58.201945",
     "exception": false,
     "start_time": "2022-10-16T13:39:58.173492",
     "status": "completed"
    },
    "tags": []
   },
   "outputs": [],
   "source": [
    "#splitting dataset into train and test splits\n",
    "x_fs_train,x_fs_test,y_train,y_test = train_test_split(x_fs,y,test_size=0.35,random_state=42,stratify=y)"
   ]
  },
  {
   "cell_type": "code",
   "execution_count": 26,
   "id": "6ef0f259",
   "metadata": {
    "execution": {
     "iopub.execute_input": "2022-10-16T13:39:58.232675Z",
     "iopub.status.busy": "2022-10-16T13:39:58.232275Z",
     "iopub.status.idle": "2022-10-16T13:39:58.247519Z",
     "shell.execute_reply": "2022-10-16T13:39:58.246383Z"
    },
    "papermill": {
     "duration": 0.033435,
     "end_time": "2022-10-16T13:39:58.249821",
     "exception": false,
     "start_time": "2022-10-16T13:39:58.216386",
     "status": "completed"
    },
    "tags": []
   },
   "outputs": [],
   "source": [
    "#normalizing time and amount features\n",
    "scaler = StandardScaler()\n",
    "x_fs_train_std=scaler.fit_transform(x_fs_train[['Time','Amount']])\n",
    "x_fs_test_std=scaler.transform(x_fs_test[['Time','Amount']])"
   ]
  },
  {
   "cell_type": "markdown",
   "id": "50312361",
   "metadata": {
    "papermill": {
     "duration": 0.013857,
     "end_time": "2022-10-16T13:39:58.278255",
     "exception": false,
     "start_time": "2022-10-16T13:39:58.264398",
     "status": "completed"
    },
    "tags": []
   },
   "source": [
    "# 4. Model Training \n",
    "After we choose the best Algorithm for our dataset, we cross validate by adjusting the hyperparameters on this algorithm using Grid Search Cross Validation."
   ]
  },
  {
   "cell_type": "code",
   "execution_count": 27,
   "id": "91585d7d",
   "metadata": {
    "execution": {
     "iopub.execute_input": "2022-10-16T13:39:58.309977Z",
     "iopub.status.busy": "2022-10-16T13:39:58.309543Z",
     "iopub.status.idle": "2022-10-16T13:40:13.571287Z",
     "shell.execute_reply": "2022-10-16T13:40:13.570365Z"
    },
    "papermill": {
     "duration": 15.280628,
     "end_time": "2022-10-16T13:40:13.573792",
     "exception": false,
     "start_time": "2022-10-16T13:39:58.293164",
     "status": "completed"
    },
    "tags": []
   },
   "outputs": [
    {
     "data": {
      "text/html": [
       "<div>\n",
       "<style scoped>\n",
       "    .dataframe tbody tr th:only-of-type {\n",
       "        vertical-align: middle;\n",
       "    }\n",
       "\n",
       "    .dataframe tbody tr th {\n",
       "        vertical-align: top;\n",
       "    }\n",
       "\n",
       "    .dataframe thead th {\n",
       "        text-align: right;\n",
       "    }\n",
       "</style>\n",
       "<table border=\"1\" class=\"dataframe\">\n",
       "  <thead>\n",
       "    <tr style=\"text-align: right;\">\n",
       "      <th></th>\n",
       "      <th>Classifier</th>\n",
       "      <th>Avg_Accuracy</th>\n",
       "      <th>Avg_F1_Score</th>\n",
       "    </tr>\n",
       "  </thead>\n",
       "  <tbody>\n",
       "    <tr>\n",
       "      <th>3</th>\n",
       "      <td>RF</td>\n",
       "      <td>0.735392</td>\n",
       "      <td>0.730681</td>\n",
       "    </tr>\n",
       "    <tr>\n",
       "      <th>2</th>\n",
       "      <td>DT</td>\n",
       "      <td>0.718328</td>\n",
       "      <td>0.724253</td>\n",
       "    </tr>\n",
       "    <tr>\n",
       "      <th>7</th>\n",
       "      <td>LGBM</td>\n",
       "      <td>0.722966</td>\n",
       "      <td>0.722180</td>\n",
       "    </tr>\n",
       "    <tr>\n",
       "      <th>6</th>\n",
       "      <td>XGB</td>\n",
       "      <td>0.715154</td>\n",
       "      <td>0.712868</td>\n",
       "    </tr>\n",
       "    <tr>\n",
       "      <th>0</th>\n",
       "      <td>KNN</td>\n",
       "      <td>0.676017</td>\n",
       "      <td>0.675537</td>\n",
       "    </tr>\n",
       "    <tr>\n",
       "      <th>4</th>\n",
       "      <td>SVM</td>\n",
       "      <td>0.585193</td>\n",
       "      <td>0.642137</td>\n",
       "    </tr>\n",
       "    <tr>\n",
       "      <th>5</th>\n",
       "      <td>MLP</td>\n",
       "      <td>0.574256</td>\n",
       "      <td>0.626098</td>\n",
       "    </tr>\n",
       "    <tr>\n",
       "      <th>1</th>\n",
       "      <td>LR</td>\n",
       "      <td>0.511657</td>\n",
       "      <td>0.529913</td>\n",
       "    </tr>\n",
       "  </tbody>\n",
       "</table>\n",
       "</div>"
      ],
      "text/plain": [
       "  Classifier  Avg_Accuracy  Avg_F1_Score\n",
       "3         RF      0.735392      0.730681\n",
       "2         DT      0.718328      0.724253\n",
       "7       LGBM      0.722966      0.722180\n",
       "6        XGB      0.715154      0.712868\n",
       "0        KNN      0.676017      0.675537\n",
       "4        SVM      0.585193      0.642137\n",
       "5        MLP      0.574256      0.626098\n",
       "1         LR      0.511657      0.529913"
      ]
     },
     "execution_count": 27,
     "metadata": {},
     "output_type": "execute_result"
    }
   ],
   "source": [
    "#dictionary to define the classifiers \n",
    "classifiers = {\n",
    "    \"KNN\": KNeighborsClassifier(), \n",
    "    \"LR\": LogisticRegression(max_iter=1000), \n",
    "    \"DT\": DecisionTreeClassifier(),\n",
    "    \"RF\": RandomForestClassifier(),\n",
    "    \"SVM\": SVC(),\n",
    "    \"MLP\": MLPClassifier(max_iter=1000),\n",
    "    \"XGB\": XGBClassifier(),\n",
    "    \"LGBM\": LGBMClassifier()\n",
    "}\n",
    "\n",
    "#training all the models in the dictionary through cross_validate\n",
    "results = pd.DataFrame(columns=[\"Classifier\", \"Avg_Accuracy\", \"Avg_F1_Score\"])\n",
    "for name, clf in classifiers.items():\n",
    "    model = clf\n",
    "    cv_results = cross_validate(\n",
    "        model, x_fs_train_std, y_train, cv=10,\n",
    "        scoring= (['accuracy','f1'])\n",
    "    )\n",
    "    #appending results in the result dataframe\n",
    "    results = results.append({\n",
    "        \"Classifier\": name,\n",
    "        \"Avg_Accuracy\": cv_results['test_accuracy'].mean(),\n",
    "        \"Avg_F1_Score\": cv_results['test_f1'].mean()\n",
    "    }, ignore_index=True)\n",
    "        \n",
    "results = results.sort_values(\"Avg_F1_Score\", ascending=False)\n",
    "results"
   ]
  },
  {
   "cell_type": "code",
   "execution_count": 28,
   "id": "3e92aa91",
   "metadata": {
    "execution": {
     "iopub.execute_input": "2022-10-16T13:40:13.604634Z",
     "iopub.status.busy": "2022-10-16T13:40:13.604222Z",
     "iopub.status.idle": "2022-10-16T13:40:13.783241Z",
     "shell.execute_reply": "2022-10-16T13:40:13.782018Z"
    },
    "papermill": {
     "duration": 0.197321,
     "end_time": "2022-10-16T13:40:13.785693",
     "exception": false,
     "start_time": "2022-10-16T13:40:13.588372",
     "status": "completed"
    },
    "tags": []
   },
   "outputs": [
    {
     "data": {
      "image/png": "[encoded data removed]",
      "text/plain": [
       "<Figure size 864x432 with 1 Axes>"
      ]
     },
     "metadata": {
      "needs_background": "light"
     },
     "output_type": "display_data"
    }
   ],
   "source": [
    "#Lets visualize the results \n",
    "plt.figure(figsize=(12, 6))\n",
    "sns.barplot(data=results, x=\"Avg_F1_Score\", y=\"Classifier\")\n",
    "plt.title(\"Average Overall CV Score\")\n",
    "plt.show()"
   ]
  },
  {
   "cell_type": "markdown",
   "id": "a0e23533",
   "metadata": {
    "papermill": {
     "duration": 0.014365,
     "end_time": "2022-10-16T13:40:13.815025",
     "exception": false,
     "start_time": "2022-10-16T13:40:13.800660",
     "status": "completed"
    },
    "tags": []
   },
   "source": [
    "I am going to pick the LGBM classifier as it has given me the highest F1_Score. As I have already balanced the dataset, F1 score is a good metric in this case. "
   ]
  },
  {
   "cell_type": "markdown",
   "id": "72ed1662",
   "metadata": {
    "papermill": {
     "duration": 0.014817,
     "end_time": "2022-10-16T13:40:13.845073",
     "exception": false,
     "start_time": "2022-10-16T13:40:13.830256",
     "status": "completed"
    },
    "tags": []
   },
   "source": [
    "## 4.1 Hyperparameter Tuning\n",
    "Using Optuna to find the best parameters. Most of the LGBM paraemeters overlap and trying to manually find the most efficient parameters can be a big mistake causing overfitting. \n",
    "Therefore we rely on a hyperparameter tuning framework such as Optuna"
   ]
  },
  {
   "cell_type": "code",
   "execution_count": 29,
   "id": "9a0304db",
   "metadata": {
    "execution": {
     "iopub.execute_input": "2022-10-16T13:40:13.877327Z",
     "iopub.status.busy": "2022-10-16T13:40:13.876668Z",
     "iopub.status.idle": "2022-10-16T13:40:13.884580Z",
     "shell.execute_reply": "2022-10-16T13:40:13.883824Z"
    },
    "papermill": {
     "duration": 0.027059,
     "end_time": "2022-10-16T13:40:13.887095",
     "exception": false,
     "start_time": "2022-10-16T13:40:13.860036",
     "status": "completed"
    },
    "tags": []
   },
   "outputs": [],
   "source": [
    "#Defining the objective function for optuna\n",
    "def objective(trial, x, y):\n",
    "    # the parameters grid\n",
    "    param_grid = { \n",
    "        \"n_estimators\": trial.suggest_int('n_estimators', 100, 1000),\n",
    "        \"learning_rate\": trial.suggest_float(\"learning_rate\", 0.01, 0.3),\n",
    "        \"num_leaves\": trial.suggest_int(\"num_leaves\", 20, 3000, step=20),\n",
    "        \"max_depth\": trial.suggest_int(\"max_depth\", 3, 12),\n",
    "        'min_child_weight': trial.suggest_loguniform('min_child_weight',1e-10, 1e10),\n",
    "        \"min_gain_to_split\": trial.suggest_float(\"min_gain_to_split\", 0, 15),\n",
    "        }  \n",
    "    model = LGBMClassifier(objective=\"binary\", **param_grid)\n",
    "    cv_results = cross_validate(\n",
    "        model, x, y_train, cv=10,\n",
    "        scoring= (['accuracy','f1'])\n",
    "    )\n",
    "    return cv_results['test_f1'].mean()"
   ]
  },
  {
   "cell_type": "code",
   "execution_count": 30,
   "id": "164b7dd4",
   "metadata": {
    "execution": {
     "iopub.execute_input": "2022-10-16T13:40:13.919419Z",
     "iopub.status.busy": "2022-10-16T13:40:13.918993Z",
     "iopub.status.idle": "2022-10-16T13:40:42.201609Z",
     "shell.execute_reply": "2022-10-16T13:40:42.200522Z"
    },
    "papermill": {
     "duration": 28.301727,
     "end_time": "2022-10-16T13:40:42.203994",
     "exception": false,
     "start_time": "2022-10-16T13:40:13.902267",
     "status": "completed"
    },
    "tags": []
   },
   "outputs": [
    {
     "name": "stdout",
     "output_type": "stream",
     "text": [
      "[LightGBM] [Warning] min_gain_to_split is set=10.529684034734204, min_split_gain=0.0 will be ignored. Current value: min_gain_to_split=10.529684034734204\n",
      "[LightGBM] [Warning] min_gain_to_split is set=10.529684034734204, min_split_gain=0.0 will be ignored. Current value: min_gain_to_split=10.529684034734204\n",
      "[LightGBM] [Warning] min_gain_to_split is set=10.529684034734204, min_split_gain=0.0 will be ignored. Current value: min_gain_to_split=10.529684034734204\n",
      "[LightGBM] [Warning] min_gain_to_split is set=10.529684034734204, min_split_gain=0.0 will be ignored. Current value: min_gain_to_split=10.529684034734204\n",
      "[LightGBM] [Warning] min_gain_to_split is set=10.529684034734204, min_split_gain=0.0 will be ignored. Current value: min_gain_to_split=10.529684034734204\n",
      "[LightGBM] [Warning] min_gain_to_split is set=10.529684034734204, min_split_gain=0.0 will be ignored. Current value: min_gain_to_split=10.529684034734204\n",
      "[LightGBM] [Warning] min_gain_to_split is set=10.529684034734204, min_split_gain=0.0 will be ignored. Current value: min_gain_to_split=10.529684034734204\n",
      "[LightGBM] [Warning] min_gain_to_split is set=10.529684034734204, min_split_gain=0.0 will be ignored. Current value: min_gain_to_split=10.529684034734204\n",
      "[LightGBM] [Warning] min_gain_to_split is set=10.529684034734204, min_split_gain=0.0 will be ignored. Current value: min_gain_to_split=10.529684034734204\n",
      "[LightGBM] [Warning] min_gain_to_split is set=10.529684034734204, min_split_gain=0.0 will be ignored. Current value: min_gain_to_split=10.529684034734204\n",
      "[LightGBM] [Warning] min_gain_to_split is set=6.064468017360103, min_split_gain=0.0 will be ignored. Current value: min_gain_to_split=6.064468017360103\n",
      "[LightGBM] [Warning] min_gain_to_split is set=6.064468017360103, min_split_gain=0.0 will be ignored. Current value: min_gain_to_split=6.064468017360103\n",
      "[LightGBM] [Warning] min_gain_to_split is set=6.064468017360103, min_split_gain=0.0 will be ignored. Current value: min_gain_to_split=6.064468017360103\n",
      "[LightGBM] [Warning] min_gain_to_split is set=6.064468017360103, min_split_gain=0.0 will be ignored. Current value: min_gain_to_split=6.064468017360103\n",
      "[LightGBM] [Warning] min_gain_to_split is set=6.064468017360103, min_split_gain=0.0 will be ignored. Current value: min_gain_to_split=6.064468017360103\n",
      "[LightGBM] [Warning] min_gain_to_split is set=6.064468017360103, min_split_gain=0.0 will be ignored. Current value: min_gain_to_split=6.064468017360103\n",
      "[LightGBM] [Warning] min_gain_to_split is set=6.064468017360103, min_split_gain=0.0 will be ignored. Current value: min_gain_to_split=6.064468017360103\n",
      "[LightGBM] [Warning] min_gain_to_split is set=6.064468017360103, min_split_gain=0.0 will be ignored. Current value: min_gain_to_split=6.064468017360103\n",
      "[LightGBM] [Warning] min_gain_to_split is set=6.064468017360103, min_split_gain=0.0 will be ignored. Current value: min_gain_to_split=6.064468017360103\n",
      "[LightGBM] [Warning] min_gain_to_split is set=6.064468017360103, min_split_gain=0.0 will be ignored. Current value: min_gain_to_split=6.064468017360103\n",
      "[LightGBM] [Warning] min_gain_to_split is set=7.800804275925194, min_split_gain=0.0 will be ignored. Current value: min_gain_to_split=7.800804275925194\n",
      "[LightGBM] [Warning] min_gain_to_split is set=7.800804275925194, min_split_gain=0.0 will be ignored. Current value: min_gain_to_split=7.800804275925194\n",
      "[LightGBM] [Warning] min_gain_to_split is set=7.800804275925194, min_split_gain=0.0 will be ignored. Current value: min_gain_to_split=7.800804275925194\n",
      "[LightGBM] [Warning] min_gain_to_split is set=7.800804275925194, min_split_gain=0.0 will be ignored. Current value: min_gain_to_split=7.800804275925194\n",
      "[LightGBM] [Warning] min_gain_to_split is set=7.800804275925194, min_split_gain=0.0 will be ignored. Current value: min_gain_to_split=7.800804275925194\n",
      "[LightGBM] [Warning] min_gain_to_split is set=7.800804275925194, min_split_gain=0.0 will be ignored. Current value: min_gain_to_split=7.800804275925194\n",
      "[LightGBM] [Warning] min_gain_to_split is set=7.800804275925194, min_split_gain=0.0 will be ignored. Current value: min_gain_to_split=7.800804275925194\n",
      "[LightGBM] [Warning] min_gain_to_split is set=7.800804275925194, min_split_gain=0.0 will be ignored. Current value: min_gain_to_split=7.800804275925194\n",
      "[LightGBM] [Warning] min_gain_to_split is set=7.800804275925194, min_split_gain=0.0 will be ignored. Current value: min_gain_to_split=7.800804275925194\n",
      "[LightGBM] [Warning] min_gain_to_split is set=7.800804275925194, min_split_gain=0.0 will be ignored. Current value: min_gain_to_split=7.800804275925194\n",
      "[LightGBM] [Warning] min_gain_to_split is set=12.486071760684167, min_split_gain=0.0 will be ignored. Current value: min_gain_to_split=12.486071760684167\n",
      "[LightGBM] [Warning] min_gain_to_split is set=12.486071760684167, min_split_gain=0.0 will be ignored. Current value: min_gain_to_split=12.486071760684167\n",
      "[LightGBM] [Warning] min_gain_to_split is set=12.486071760684167, min_split_gain=0.0 will be ignored. Current value: min_gain_to_split=12.486071760684167\n",
      "[LightGBM] [Warning] min_gain_to_split is set=12.486071760684167, min_split_gain=0.0 will be ignored. Current value: min_gain_to_split=12.486071760684167\n",
      "[LightGBM] [Warning] min_gain_to_split is set=12.486071760684167, min_split_gain=0.0 will be ignored. Current value: min_gain_to_split=12.486071760684167\n",
      "[LightGBM] [Warning] min_gain_to_split is set=12.486071760684167, min_split_gain=0.0 will be ignored. Current value: min_gain_to_split=12.486071760684167\n",
      "[LightGBM] [Warning] min_gain_to_split is set=12.486071760684167, min_split_gain=0.0 will be ignored. Current value: min_gain_to_split=12.486071760684167\n",
      "[LightGBM] [Warning] min_gain_to_split is set=12.486071760684167, min_split_gain=0.0 will be ignored. Current value: min_gain_to_split=12.486071760684167\n",
      "[LightGBM] [Warning] min_gain_to_split is set=12.486071760684167, min_split_gain=0.0 will be ignored. Current value: min_gain_to_split=12.486071760684167\n",
      "[LightGBM] [Warning] min_gain_to_split is set=12.486071760684167, min_split_gain=0.0 will be ignored. Current value: min_gain_to_split=12.486071760684167\n",
      "[LightGBM] [Warning] min_gain_to_split is set=8.900843351797352, min_split_gain=0.0 will be ignored. Current value: min_gain_to_split=8.900843351797352\n",
      "[LightGBM] [Warning] min_gain_to_split is set=8.900843351797352, min_split_gain=0.0 will be ignored. Current value: min_gain_to_split=8.900843351797352\n",
      "[LightGBM] [Warning] min_gain_to_split is set=8.900843351797352, min_split_gain=0.0 will be ignored. Current value: min_gain_to_split=8.900843351797352\n",
      "[LightGBM] [Warning] min_gain_to_split is set=8.900843351797352, min_split_gain=0.0 will be ignored. Current value: min_gain_to_split=8.900843351797352\n",
      "[LightGBM] [Warning] min_gain_to_split is set=8.900843351797352, min_split_gain=0.0 will be ignored. Current value: min_gain_to_split=8.900843351797352\n",
      "[LightGBM] [Warning] min_gain_to_split is set=8.900843351797352, min_split_gain=0.0 will be ignored. Current value: min_gain_to_split=8.900843351797352\n",
      "[LightGBM] [Warning] min_gain_to_split is set=8.900843351797352, min_split_gain=0.0 will be ignored. Current value: min_gain_to_split=8.900843351797352\n",
      "[LightGBM] [Warning] min_gain_to_split is set=8.900843351797352, min_split_gain=0.0 will be ignored. Current value: min_gain_to_split=8.900843351797352\n",
      "[LightGBM] [Warning] min_gain_to_split is set=8.900843351797352, min_split_gain=0.0 will be ignored. Current value: min_gain_to_split=8.900843351797352\n",
      "[LightGBM] [Warning] min_gain_to_split is set=8.900843351797352, min_split_gain=0.0 will be ignored. Current value: min_gain_to_split=8.900843351797352\n",
      "[LightGBM] [Warning] min_gain_to_split is set=13.26921944508205, min_split_gain=0.0 will be ignored. Current value: min_gain_to_split=13.26921944508205\n",
      "[LightGBM] [Warning] min_gain_to_split is set=13.26921944508205, min_split_gain=0.0 will be ignored. Current value: min_gain_to_split=13.26921944508205\n",
      "[LightGBM] [Warning] min_gain_to_split is set=13.26921944508205, min_split_gain=0.0 will be ignored. Current value: min_gain_to_split=13.26921944508205\n",
      "[LightGBM] [Warning] min_gain_to_split is set=13.26921944508205, min_split_gain=0.0 will be ignored. Current value: min_gain_to_split=13.26921944508205\n",
      "[LightGBM] [Warning] min_gain_to_split is set=13.26921944508205, min_split_gain=0.0 will be ignored. Current value: min_gain_to_split=13.26921944508205\n",
      "[LightGBM] [Warning] min_gain_to_split is set=13.26921944508205, min_split_gain=0.0 will be ignored. Current value: min_gain_to_split=13.26921944508205\n",
      "[LightGBM] [Warning] min_gain_to_split is set=13.26921944508205, min_split_gain=0.0 will be ignored. Current value: min_gain_to_split=13.26921944508205\n",
      "[LightGBM] [Warning] min_gain_to_split is set=13.26921944508205, min_split_gain=0.0 will be ignored. Current value: min_gain_to_split=13.26921944508205\n",
      "[LightGBM] [Warning] min_gain_to_split is set=13.26921944508205, min_split_gain=0.0 will be ignored. Current value: min_gain_to_split=13.26921944508205\n",
      "[LightGBM] [Warning] min_gain_to_split is set=13.26921944508205, min_split_gain=0.0 will be ignored. Current value: min_gain_to_split=13.26921944508205\n",
      "[LightGBM] [Warning] min_gain_to_split is set=6.22854692156112, min_split_gain=0.0 will be ignored. Current value: min_gain_to_split=6.22854692156112\n",
      "[LightGBM] [Warning] min_gain_to_split is set=6.22854692156112, min_split_gain=0.0 will be ignored. Current value: min_gain_to_split=6.22854692156112\n",
      "[LightGBM] [Warning] min_gain_to_split is set=6.22854692156112, min_split_gain=0.0 will be ignored. Current value: min_gain_to_split=6.22854692156112\n",
      "[LightGBM] [Warning] min_gain_to_split is set=6.22854692156112, min_split_gain=0.0 will be ignored. Current value: min_gain_to_split=6.22854692156112\n",
      "[LightGBM] [Warning] min_gain_to_split is set=6.22854692156112, min_split_gain=0.0 will be ignored. Current value: min_gain_to_split=6.22854692156112\n",
      "[LightGBM] [Warning] min_gain_to_split is set=6.22854692156112, min_split_gain=0.0 will be ignored. Current value: min_gain_to_split=6.22854692156112\n",
      "[LightGBM] [Warning] min_gain_to_split is set=6.22854692156112, min_split_gain=0.0 will be ignored. Current value: min_gain_to_split=6.22854692156112\n",
      "[LightGBM] [Warning] min_gain_to_split is set=6.22854692156112, min_split_gain=0.0 will be ignored. Current value: min_gain_to_split=6.22854692156112\n",
      "[LightGBM] [Warning] min_gain_to_split is set=6.22854692156112, min_split_gain=0.0 will be ignored. Current value: min_gain_to_split=6.22854692156112\n",
      "[LightGBM] [Warning] min_gain_to_split is set=6.22854692156112, min_split_gain=0.0 will be ignored. Current value: min_gain_to_split=6.22854692156112\n",
      "[LightGBM] [Warning] min_gain_to_split is set=7.701269089034453, min_split_gain=0.0 will be ignored. Current value: min_gain_to_split=7.701269089034453\n",
      "[LightGBM] [Warning] min_gain_to_split is set=7.701269089034453, min_split_gain=0.0 will be ignored. Current value: min_gain_to_split=7.701269089034453\n",
      "[LightGBM] [Warning] min_gain_to_split is set=7.701269089034453, min_split_gain=0.0 will be ignored. Current value: min_gain_to_split=7.701269089034453\n",
      "[LightGBM] [Warning] min_gain_to_split is set=7.701269089034453, min_split_gain=0.0 will be ignored. Current value: min_gain_to_split=7.701269089034453\n",
      "[LightGBM] [Warning] min_gain_to_split is set=7.701269089034453, min_split_gain=0.0 will be ignored. Current value: min_gain_to_split=7.701269089034453\n",
      "[LightGBM] [Warning] min_gain_to_split is set=7.701269089034453, min_split_gain=0.0 will be ignored. Current value: min_gain_to_split=7.701269089034453\n",
      "[LightGBM] [Warning] min_gain_to_split is set=7.701269089034453, min_split_gain=0.0 will be ignored. Current value: min_gain_to_split=7.701269089034453\n",
      "[LightGBM] [Warning] min_gain_to_split is set=7.701269089034453, min_split_gain=0.0 will be ignored. Current value: min_gain_to_split=7.701269089034453\n",
      "[LightGBM] [Warning] min_gain_to_split is set=7.701269089034453, min_split_gain=0.0 will be ignored. Current value: min_gain_to_split=7.701269089034453\n",
      "[LightGBM] [Warning] min_gain_to_split is set=7.701269089034453, min_split_gain=0.0 will be ignored. Current value: min_gain_to_split=7.701269089034453\n",
      "[LightGBM] [Warning] min_gain_to_split is set=1.7373538907785218, min_split_gain=0.0 will be ignored. Current value: min_gain_to_split=1.7373538907785218\n",
      "[LightGBM] [Warning] min_gain_to_split is set=1.7373538907785218, min_split_gain=0.0 will be ignored. Current value: min_gain_to_split=1.7373538907785218\n",
      "[LightGBM] [Warning] min_gain_to_split is set=1.7373538907785218, min_split_gain=0.0 will be ignored. Current value: min_gain_to_split=1.7373538907785218\n",
      "[LightGBM] [Warning] min_gain_to_split is set=1.7373538907785218, min_split_gain=0.0 will be ignored. Current value: min_gain_to_split=1.7373538907785218\n",
      "[LightGBM] [Warning] min_gain_to_split is set=1.7373538907785218, min_split_gain=0.0 will be ignored. Current value: min_gain_to_split=1.7373538907785218\n",
      "[LightGBM] [Warning] min_gain_to_split is set=1.7373538907785218, min_split_gain=0.0 will be ignored. Current value: min_gain_to_split=1.7373538907785218\n",
      "[LightGBM] [Warning] min_gain_to_split is set=1.7373538907785218, min_split_gain=0.0 will be ignored. Current value: min_gain_to_split=1.7373538907785218\n",
      "[LightGBM] [Warning] min_gain_to_split is set=1.7373538907785218, min_split_gain=0.0 will be ignored. Current value: min_gain_to_split=1.7373538907785218\n",
      "[LightGBM] [Warning] min_gain_to_split is set=1.7373538907785218, min_split_gain=0.0 will be ignored. Current value: min_gain_to_split=1.7373538907785218\n",
      "[LightGBM] [Warning] min_gain_to_split is set=1.7373538907785218, min_split_gain=0.0 will be ignored. Current value: min_gain_to_split=1.7373538907785218\n",
      "[LightGBM] [Warning] min_gain_to_split is set=8.88720977222083, min_split_gain=0.0 will be ignored. Current value: min_gain_to_split=8.88720977222083\n",
      "[LightGBM] [Warning] min_gain_to_split is set=8.88720977222083, min_split_gain=0.0 will be ignored. Current value: min_gain_to_split=8.88720977222083\n",
      "[LightGBM] [Warning] min_gain_to_split is set=8.88720977222083, min_split_gain=0.0 will be ignored. Current value: min_gain_to_split=8.88720977222083\n",
      "[LightGBM] [Warning] min_gain_to_split is set=8.88720977222083, min_split_gain=0.0 will be ignored. Current value: min_gain_to_split=8.88720977222083\n",
      "[LightGBM] [Warning] min_gain_to_split is set=8.88720977222083, min_split_gain=0.0 will be ignored. Current value: min_gain_to_split=8.88720977222083\n",
      "[LightGBM] [Warning] min_gain_to_split is set=8.88720977222083, min_split_gain=0.0 will be ignored. Current value: min_gain_to_split=8.88720977222083\n",
      "[LightGBM] [Warning] min_gain_to_split is set=8.88720977222083, min_split_gain=0.0 will be ignored. Current value: min_gain_to_split=8.88720977222083\n",
      "[LightGBM] [Warning] min_gain_to_split is set=8.88720977222083, min_split_gain=0.0 will be ignored. Current value: min_gain_to_split=8.88720977222083\n",
      "[LightGBM] [Warning] min_gain_to_split is set=8.88720977222083, min_split_gain=0.0 will be ignored. Current value: min_gain_to_split=8.88720977222083\n",
      "[LightGBM] [Warning] min_gain_to_split is set=8.88720977222083, min_split_gain=0.0 will be ignored. Current value: min_gain_to_split=8.88720977222083\n",
      "[LightGBM] [Warning] min_gain_to_split is set=2.9812790525185777, min_split_gain=0.0 will be ignored. Current value: min_gain_to_split=2.9812790525185777\n",
      "[LightGBM] [Warning] min_gain_to_split is set=2.9812790525185777, min_split_gain=0.0 will be ignored. Current value: min_gain_to_split=2.9812790525185777\n",
      "[LightGBM] [Warning] min_gain_to_split is set=2.9812790525185777, min_split_gain=0.0 will be ignored. Current value: min_gain_to_split=2.9812790525185777\n",
      "[LightGBM] [Warning] min_gain_to_split is set=2.9812790525185777, min_split_gain=0.0 will be ignored. Current value: min_gain_to_split=2.9812790525185777\n",
      "[LightGBM] [Warning] min_gain_to_split is set=2.9812790525185777, min_split_gain=0.0 will be ignored. Current value: min_gain_to_split=2.9812790525185777\n",
      "[LightGBM] [Warning] min_gain_to_split is set=2.9812790525185777, min_split_gain=0.0 will be ignored. Current value: min_gain_to_split=2.9812790525185777\n",
      "[LightGBM] [Warning] min_gain_to_split is set=2.9812790525185777, min_split_gain=0.0 will be ignored. Current value: min_gain_to_split=2.9812790525185777\n",
      "[LightGBM] [Warning] min_gain_to_split is set=2.9812790525185777, min_split_gain=0.0 will be ignored. Current value: min_gain_to_split=2.9812790525185777\n",
      "[LightGBM] [Warning] min_gain_to_split is set=2.9812790525185777, min_split_gain=0.0 will be ignored. Current value: min_gain_to_split=2.9812790525185777\n",
      "[LightGBM] [Warning] min_gain_to_split is set=2.9812790525185777, min_split_gain=0.0 will be ignored. Current value: min_gain_to_split=2.9812790525185777\n",
      "[LightGBM] [Warning] min_gain_to_split is set=1.1826786736640336, min_split_gain=0.0 will be ignored. Current value: min_gain_to_split=1.1826786736640336\n",
      "[LightGBM] [Warning] min_gain_to_split is set=1.1826786736640336, min_split_gain=0.0 will be ignored. Current value: min_gain_to_split=1.1826786736640336\n",
      "[LightGBM] [Warning] min_gain_to_split is set=1.1826786736640336, min_split_gain=0.0 will be ignored. Current value: min_gain_to_split=1.1826786736640336\n",
      "[LightGBM] [Warning] min_gain_to_split is set=1.1826786736640336, min_split_gain=0.0 will be ignored. Current value: min_gain_to_split=1.1826786736640336\n",
      "[LightGBM] [Warning] min_gain_to_split is set=1.1826786736640336, min_split_gain=0.0 will be ignored. Current value: min_gain_to_split=1.1826786736640336\n",
      "[LightGBM] [Warning] min_gain_to_split is set=1.1826786736640336, min_split_gain=0.0 will be ignored. Current value: min_gain_to_split=1.1826786736640336\n",
      "[LightGBM] [Warning] min_gain_to_split is set=1.1826786736640336, min_split_gain=0.0 will be ignored. Current value: min_gain_to_split=1.1826786736640336\n",
      "[LightGBM] [Warning] min_gain_to_split is set=1.1826786736640336, min_split_gain=0.0 will be ignored. Current value: min_gain_to_split=1.1826786736640336\n",
      "[LightGBM] [Warning] min_gain_to_split is set=1.1826786736640336, min_split_gain=0.0 will be ignored. Current value: min_gain_to_split=1.1826786736640336\n",
      "[LightGBM] [Warning] min_gain_to_split is set=1.1826786736640336, min_split_gain=0.0 will be ignored. Current value: min_gain_to_split=1.1826786736640336\n",
      "[LightGBM] [Warning] min_gain_to_split is set=0.5971883601963204, min_split_gain=0.0 will be ignored. Current value: min_gain_to_split=0.5971883601963204\n",
      "[LightGBM] [Warning] min_gain_to_split is set=0.5971883601963204, min_split_gain=0.0 will be ignored. Current value: min_gain_to_split=0.5971883601963204\n",
      "[LightGBM] [Warning] min_gain_to_split is set=0.5971883601963204, min_split_gain=0.0 will be ignored. Current value: min_gain_to_split=0.5971883601963204\n",
      "[LightGBM] [Warning] min_gain_to_split is set=0.5971883601963204, min_split_gain=0.0 will be ignored. Current value: min_gain_to_split=0.5971883601963204\n",
      "[LightGBM] [Warning] min_gain_to_split is set=0.5971883601963204, min_split_gain=0.0 will be ignored. Current value: min_gain_to_split=0.5971883601963204\n",
      "[LightGBM] [Warning] min_gain_to_split is set=0.5971883601963204, min_split_gain=0.0 will be ignored. Current value: min_gain_to_split=0.5971883601963204\n",
      "[LightGBM] [Warning] min_gain_to_split is set=0.5971883601963204, min_split_gain=0.0 will be ignored. Current value: min_gain_to_split=0.5971883601963204\n",
      "[LightGBM] [Warning] min_gain_to_split is set=0.5971883601963204, min_split_gain=0.0 will be ignored. Current value: min_gain_to_split=0.5971883601963204\n",
      "[LightGBM] [Warning] min_gain_to_split is set=0.5971883601963204, min_split_gain=0.0 will be ignored. Current value: min_gain_to_split=0.5971883601963204\n",
      "[LightGBM] [Warning] min_gain_to_split is set=0.5971883601963204, min_split_gain=0.0 will be ignored. Current value: min_gain_to_split=0.5971883601963204\n",
      "[LightGBM] [Warning] min_gain_to_split is set=3.4064662993957318, min_split_gain=0.0 will be ignored. Current value: min_gain_to_split=3.4064662993957318\n",
      "[LightGBM] [Warning] min_gain_to_split is set=3.4064662993957318, min_split_gain=0.0 will be ignored. Current value: min_gain_to_split=3.4064662993957318\n",
      "[LightGBM] [Warning] min_gain_to_split is set=3.4064662993957318, min_split_gain=0.0 will be ignored. Current value: min_gain_to_split=3.4064662993957318\n",
      "[LightGBM] [Warning] min_gain_to_split is set=3.4064662993957318, min_split_gain=0.0 will be ignored. Current value: min_gain_to_split=3.4064662993957318\n",
      "[LightGBM] [Warning] min_gain_to_split is set=3.4064662993957318, min_split_gain=0.0 will be ignored. Current value: min_gain_to_split=3.4064662993957318\n",
      "[LightGBM] [Warning] min_gain_to_split is set=3.4064662993957318, min_split_gain=0.0 will be ignored. Current value: min_gain_to_split=3.4064662993957318\n",
      "[LightGBM] [Warning] min_gain_to_split is set=3.4064662993957318, min_split_gain=0.0 will be ignored. Current value: min_gain_to_split=3.4064662993957318\n",
      "[LightGBM] [Warning] min_gain_to_split is set=3.4064662993957318, min_split_gain=0.0 will be ignored. Current value: min_gain_to_split=3.4064662993957318\n",
      "[LightGBM] [Warning] min_gain_to_split is set=3.4064662993957318, min_split_gain=0.0 will be ignored. Current value: min_gain_to_split=3.4064662993957318\n",
      "[LightGBM] [Warning] min_gain_to_split is set=3.4064662993957318, min_split_gain=0.0 will be ignored. Current value: min_gain_to_split=3.4064662993957318\n",
      "[LightGBM] [Warning] min_gain_to_split is set=0.0010114743235722923, min_split_gain=0.0 will be ignored. Current value: min_gain_to_split=0.0010114743235722923\n",
      "[LightGBM] [Warning] min_gain_to_split is set=0.0010114743235722923, min_split_gain=0.0 will be ignored. Current value: min_gain_to_split=0.0010114743235722923\n",
      "[LightGBM] [Warning] min_gain_to_split is set=0.0010114743235722923, min_split_gain=0.0 will be ignored. Current value: min_gain_to_split=0.0010114743235722923\n",
      "[LightGBM] [Warning] min_gain_to_split is set=0.0010114743235722923, min_split_gain=0.0 will be ignored. Current value: min_gain_to_split=0.0010114743235722923\n",
      "[LightGBM] [Warning] min_gain_to_split is set=0.0010114743235722923, min_split_gain=0.0 will be ignored. Current value: min_gain_to_split=0.0010114743235722923\n",
      "[LightGBM] [Warning] min_gain_to_split is set=0.0010114743235722923, min_split_gain=0.0 will be ignored. Current value: min_gain_to_split=0.0010114743235722923\n",
      "[LightGBM] [Warning] min_gain_to_split is set=0.0010114743235722923, min_split_gain=0.0 will be ignored. Current value: min_gain_to_split=0.0010114743235722923\n",
      "[LightGBM] [Warning] min_gain_to_split is set=0.0010114743235722923, min_split_gain=0.0 will be ignored. Current value: min_gain_to_split=0.0010114743235722923\n",
      "[LightGBM] [Warning] min_gain_to_split is set=0.0010114743235722923, min_split_gain=0.0 will be ignored. Current value: min_gain_to_split=0.0010114743235722923\n",
      "[LightGBM] [Warning] min_gain_to_split is set=0.0010114743235722923, min_split_gain=0.0 will be ignored. Current value: min_gain_to_split=0.0010114743235722923\n",
      "[LightGBM] [Warning] min_gain_to_split is set=0.16959855205245872, min_split_gain=0.0 will be ignored. Current value: min_gain_to_split=0.16959855205245872\n",
      "[LightGBM] [Warning] min_gain_to_split is set=0.16959855205245872, min_split_gain=0.0 will be ignored. Current value: min_gain_to_split=0.16959855205245872\n",
      "[LightGBM] [Warning] min_gain_to_split is set=0.16959855205245872, min_split_gain=0.0 will be ignored. Current value: min_gain_to_split=0.16959855205245872\n",
      "[LightGBM] [Warning] min_gain_to_split is set=0.16959855205245872, min_split_gain=0.0 will be ignored. Current value: min_gain_to_split=0.16959855205245872\n",
      "[LightGBM] [Warning] min_gain_to_split is set=0.16959855205245872, min_split_gain=0.0 will be ignored. Current value: min_gain_to_split=0.16959855205245872\n",
      "[LightGBM] [Warning] min_gain_to_split is set=0.16959855205245872, min_split_gain=0.0 will be ignored. Current value: min_gain_to_split=0.16959855205245872\n",
      "[LightGBM] [Warning] min_gain_to_split is set=0.16959855205245872, min_split_gain=0.0 will be ignored. Current value: min_gain_to_split=0.16959855205245872\n",
      "[LightGBM] [Warning] min_gain_to_split is set=0.16959855205245872, min_split_gain=0.0 will be ignored. Current value: min_gain_to_split=0.16959855205245872\n",
      "[LightGBM] [Warning] min_gain_to_split is set=0.16959855205245872, min_split_gain=0.0 will be ignored. Current value: min_gain_to_split=0.16959855205245872\n",
      "[LightGBM] [Warning] min_gain_to_split is set=0.16959855205245872, min_split_gain=0.0 will be ignored. Current value: min_gain_to_split=0.16959855205245872\n",
      "[LightGBM] [Warning] min_gain_to_split is set=4.18355331088914, min_split_gain=0.0 will be ignored. Current value: min_gain_to_split=4.18355331088914\n",
      "[LightGBM] [Warning] min_gain_to_split is set=4.18355331088914, min_split_gain=0.0 will be ignored. Current value: min_gain_to_split=4.18355331088914\n",
      "[LightGBM] [Warning] min_gain_to_split is set=4.18355331088914, min_split_gain=0.0 will be ignored. Current value: min_gain_to_split=4.18355331088914\n",
      "[LightGBM] [Warning] min_gain_to_split is set=4.18355331088914, min_split_gain=0.0 will be ignored. Current value: min_gain_to_split=4.18355331088914\n",
      "[LightGBM] [Warning] min_gain_to_split is set=4.18355331088914, min_split_gain=0.0 will be ignored. Current value: min_gain_to_split=4.18355331088914\n",
      "[LightGBM] [Warning] min_gain_to_split is set=4.18355331088914, min_split_gain=0.0 will be ignored. Current value: min_gain_to_split=4.18355331088914\n",
      "[LightGBM] [Warning] min_gain_to_split is set=4.18355331088914, min_split_gain=0.0 will be ignored. Current value: min_gain_to_split=4.18355331088914\n",
      "[LightGBM] [Warning] min_gain_to_split is set=4.18355331088914, min_split_gain=0.0 will be ignored. Current value: min_gain_to_split=4.18355331088914\n",
      "[LightGBM] [Warning] min_gain_to_split is set=4.18355331088914, min_split_gain=0.0 will be ignored. Current value: min_gain_to_split=4.18355331088914\n",
      "[LightGBM] [Warning] min_gain_to_split is set=4.18355331088914, min_split_gain=0.0 will be ignored. Current value: min_gain_to_split=4.18355331088914\n",
      "[LightGBM] [Warning] min_gain_to_split is set=5.224189786976026, min_split_gain=0.0 will be ignored. Current value: min_gain_to_split=5.224189786976026\n",
      "[LightGBM] [Warning] min_gain_to_split is set=5.224189786976026, min_split_gain=0.0 will be ignored. Current value: min_gain_to_split=5.224189786976026\n",
      "[LightGBM] [Warning] min_gain_to_split is set=5.224189786976026, min_split_gain=0.0 will be ignored. Current value: min_gain_to_split=5.224189786976026\n",
      "[LightGBM] [Warning] min_gain_to_split is set=5.224189786976026, min_split_gain=0.0 will be ignored. Current value: min_gain_to_split=5.224189786976026\n",
      "[LightGBM] [Warning] min_gain_to_split is set=5.224189786976026, min_split_gain=0.0 will be ignored. Current value: min_gain_to_split=5.224189786976026\n",
      "[LightGBM] [Warning] min_gain_to_split is set=5.224189786976026, min_split_gain=0.0 will be ignored. Current value: min_gain_to_split=5.224189786976026\n",
      "[LightGBM] [Warning] min_gain_to_split is set=5.224189786976026, min_split_gain=0.0 will be ignored. Current value: min_gain_to_split=5.224189786976026\n",
      "[LightGBM] [Warning] min_gain_to_split is set=5.224189786976026, min_split_gain=0.0 will be ignored. Current value: min_gain_to_split=5.224189786976026\n",
      "[LightGBM] [Warning] min_gain_to_split is set=5.224189786976026, min_split_gain=0.0 will be ignored. Current value: min_gain_to_split=5.224189786976026\n",
      "[LightGBM] [Warning] min_gain_to_split is set=5.224189786976026, min_split_gain=0.0 will be ignored. Current value: min_gain_to_split=5.224189786976026\n",
      "[LightGBM] [Warning] min_gain_to_split is set=0.0811657591458618, min_split_gain=0.0 will be ignored. Current value: min_gain_to_split=0.0811657591458618\n",
      "[LightGBM] [Warning] min_gain_to_split is set=0.0811657591458618, min_split_gain=0.0 will be ignored. Current value: min_gain_to_split=0.0811657591458618\n",
      "[LightGBM] [Warning] min_gain_to_split is set=0.0811657591458618, min_split_gain=0.0 will be ignored. Current value: min_gain_to_split=0.0811657591458618\n",
      "[LightGBM] [Warning] min_gain_to_split is set=0.0811657591458618, min_split_gain=0.0 will be ignored. Current value: min_gain_to_split=0.0811657591458618\n",
      "[LightGBM] [Warning] min_gain_to_split is set=0.0811657591458618, min_split_gain=0.0 will be ignored. Current value: min_gain_to_split=0.0811657591458618\n",
      "[LightGBM] [Warning] min_gain_to_split is set=0.0811657591458618, min_split_gain=0.0 will be ignored. Current value: min_gain_to_split=0.0811657591458618\n",
      "[LightGBM] [Warning] min_gain_to_split is set=0.0811657591458618, min_split_gain=0.0 will be ignored. Current value: min_gain_to_split=0.0811657591458618\n",
      "[LightGBM] [Warning] min_gain_to_split is set=0.0811657591458618, min_split_gain=0.0 will be ignored. Current value: min_gain_to_split=0.0811657591458618\n",
      "[LightGBM] [Warning] min_gain_to_split is set=0.0811657591458618, min_split_gain=0.0 will be ignored. Current value: min_gain_to_split=0.0811657591458618\n",
      "[LightGBM] [Warning] min_gain_to_split is set=0.0811657591458618, min_split_gain=0.0 will be ignored. Current value: min_gain_to_split=0.0811657591458618\n",
      "[LightGBM] [Warning] min_gain_to_split is set=2.7592615270864393, min_split_gain=0.0 will be ignored. Current value: min_gain_to_split=2.7592615270864393\n",
      "[LightGBM] [Warning] min_gain_to_split is set=2.7592615270864393, min_split_gain=0.0 will be ignored. Current value: min_gain_to_split=2.7592615270864393\n",
      "[LightGBM] [Warning] min_gain_to_split is set=2.7592615270864393, min_split_gain=0.0 will be ignored. Current value: min_gain_to_split=2.7592615270864393\n",
      "[LightGBM] [Warning] min_gain_to_split is set=2.7592615270864393, min_split_gain=0.0 will be ignored. Current value: min_gain_to_split=2.7592615270864393\n",
      "[LightGBM] [Warning] min_gain_to_split is set=2.7592615270864393, min_split_gain=0.0 will be ignored. Current value: min_gain_to_split=2.7592615270864393\n",
      "[LightGBM] [Warning] min_gain_to_split is set=2.7592615270864393, min_split_gain=0.0 will be ignored. Current value: min_gain_to_split=2.7592615270864393\n",
      "[LightGBM] [Warning] min_gain_to_split is set=2.7592615270864393, min_split_gain=0.0 will be ignored. Current value: min_gain_to_split=2.7592615270864393\n",
      "[LightGBM] [Warning] min_gain_to_split is set=2.7592615270864393, min_split_gain=0.0 will be ignored. Current value: min_gain_to_split=2.7592615270864393\n",
      "[LightGBM] [Warning] min_gain_to_split is set=2.7592615270864393, min_split_gain=0.0 will be ignored. Current value: min_gain_to_split=2.7592615270864393\n",
      "[LightGBM] [Warning] min_gain_to_split is set=2.7592615270864393, min_split_gain=0.0 will be ignored. Current value: min_gain_to_split=2.7592615270864393\n",
      "[LightGBM] [Warning] min_gain_to_split is set=2.009279090544025, min_split_gain=0.0 will be ignored. Current value: min_gain_to_split=2.009279090544025\n",
      "[LightGBM] [Warning] min_gain_to_split is set=2.009279090544025, min_split_gain=0.0 will be ignored. Current value: min_gain_to_split=2.009279090544025\n",
      "[LightGBM] [Warning] min_gain_to_split is set=2.009279090544025, min_split_gain=0.0 will be ignored. Current value: min_gain_to_split=2.009279090544025\n",
      "[LightGBM] [Warning] min_gain_to_split is set=2.009279090544025, min_split_gain=0.0 will be ignored. Current value: min_gain_to_split=2.009279090544025\n",
      "[LightGBM] [Warning] min_gain_to_split is set=2.009279090544025, min_split_gain=0.0 will be ignored. Current value: min_gain_to_split=2.009279090544025\n",
      "[LightGBM] [Warning] min_gain_to_split is set=2.009279090544025, min_split_gain=0.0 will be ignored. Current value: min_gain_to_split=2.009279090544025\n",
      "[LightGBM] [Warning] min_gain_to_split is set=2.009279090544025, min_split_gain=0.0 will be ignored. Current value: min_gain_to_split=2.009279090544025\n",
      "[LightGBM] [Warning] min_gain_to_split is set=2.009279090544025, min_split_gain=0.0 will be ignored. Current value: min_gain_to_split=2.009279090544025\n",
      "[LightGBM] [Warning] min_gain_to_split is set=2.009279090544025, min_split_gain=0.0 will be ignored. Current value: min_gain_to_split=2.009279090544025\n",
      "[LightGBM] [Warning] min_gain_to_split is set=2.009279090544025, min_split_gain=0.0 will be ignored. Current value: min_gain_to_split=2.009279090544025\n",
      "[LightGBM] [Warning] min_gain_to_split is set=1.7774763496743466, min_split_gain=0.0 will be ignored. Current value: min_gain_to_split=1.7774763496743466\n",
      "[LightGBM] [Warning] min_gain_to_split is set=1.7774763496743466, min_split_gain=0.0 will be ignored. Current value: min_gain_to_split=1.7774763496743466\n",
      "[LightGBM] [Warning] min_gain_to_split is set=1.7774763496743466, min_split_gain=0.0 will be ignored. Current value: min_gain_to_split=1.7774763496743466\n",
      "[LightGBM] [Warning] min_gain_to_split is set=1.7774763496743466, min_split_gain=0.0 will be ignored. Current value: min_gain_to_split=1.7774763496743466\n",
      "[LightGBM] [Warning] min_gain_to_split is set=1.7774763496743466, min_split_gain=0.0 will be ignored. Current value: min_gain_to_split=1.7774763496743466\n",
      "[LightGBM] [Warning] min_gain_to_split is set=1.7774763496743466, min_split_gain=0.0 will be ignored. Current value: min_gain_to_split=1.7774763496743466\n",
      "[LightGBM] [Warning] min_gain_to_split is set=1.7774763496743466, min_split_gain=0.0 will be ignored. Current value: min_gain_to_split=1.7774763496743466\n",
      "[LightGBM] [Warning] min_gain_to_split is set=1.7774763496743466, min_split_gain=0.0 will be ignored. Current value: min_gain_to_split=1.7774763496743466\n",
      "[LightGBM] [Warning] min_gain_to_split is set=1.7774763496743466, min_split_gain=0.0 will be ignored. Current value: min_gain_to_split=1.7774763496743466\n",
      "[LightGBM] [Warning] min_gain_to_split is set=1.7774763496743466, min_split_gain=0.0 will be ignored. Current value: min_gain_to_split=1.7774763496743466\n",
      "[LightGBM] [Warning] min_gain_to_split is set=0.020595708987167543, min_split_gain=0.0 will be ignored. Current value: min_gain_to_split=0.020595708987167543\n",
      "[LightGBM] [Warning] min_gain_to_split is set=0.020595708987167543, min_split_gain=0.0 will be ignored. Current value: min_gain_to_split=0.020595708987167543\n",
      "[LightGBM] [Warning] min_gain_to_split is set=0.020595708987167543, min_split_gain=0.0 will be ignored. Current value: min_gain_to_split=0.020595708987167543\n",
      "[LightGBM] [Warning] min_gain_to_split is set=0.020595708987167543, min_split_gain=0.0 will be ignored. Current value: min_gain_to_split=0.020595708987167543\n",
      "[LightGBM] [Warning] min_gain_to_split is set=0.020595708987167543, min_split_gain=0.0 will be ignored. Current value: min_gain_to_split=0.020595708987167543\n",
      "[LightGBM] [Warning] min_gain_to_split is set=0.020595708987167543, min_split_gain=0.0 will be ignored. Current value: min_gain_to_split=0.020595708987167543\n",
      "[LightGBM] [Warning] min_gain_to_split is set=0.020595708987167543, min_split_gain=0.0 will be ignored. Current value: min_gain_to_split=0.020595708987167543\n",
      "[LightGBM] [Warning] min_gain_to_split is set=0.020595708987167543, min_split_gain=0.0 will be ignored. Current value: min_gain_to_split=0.020595708987167543\n",
      "[LightGBM] [Warning] min_gain_to_split is set=0.020595708987167543, min_split_gain=0.0 will be ignored. Current value: min_gain_to_split=0.020595708987167543\n",
      "[LightGBM] [Warning] min_gain_to_split is set=0.020595708987167543, min_split_gain=0.0 will be ignored. Current value: min_gain_to_split=0.020595708987167543\n",
      "[LightGBM] [Warning] min_gain_to_split is set=4.31806378769763, min_split_gain=0.0 will be ignored. Current value: min_gain_to_split=4.31806378769763\n",
      "[LightGBM] [Warning] min_gain_to_split is set=4.31806378769763, min_split_gain=0.0 will be ignored. Current value: min_gain_to_split=4.31806378769763\n",
      "[LightGBM] [Warning] min_gain_to_split is set=4.31806378769763, min_split_gain=0.0 will be ignored. Current value: min_gain_to_split=4.31806378769763\n",
      "[LightGBM] [Warning] min_gain_to_split is set=4.31806378769763, min_split_gain=0.0 will be ignored. Current value: min_gain_to_split=4.31806378769763\n",
      "[LightGBM] [Warning] min_gain_to_split is set=4.31806378769763, min_split_gain=0.0 will be ignored. Current value: min_gain_to_split=4.31806378769763\n",
      "[LightGBM] [Warning] min_gain_to_split is set=4.31806378769763, min_split_gain=0.0 will be ignored. Current value: min_gain_to_split=4.31806378769763\n",
      "[LightGBM] [Warning] min_gain_to_split is set=4.31806378769763, min_split_gain=0.0 will be ignored. Current value: min_gain_to_split=4.31806378769763\n",
      "[LightGBM] [Warning] min_gain_to_split is set=4.31806378769763, min_split_gain=0.0 will be ignored. Current value: min_gain_to_split=4.31806378769763\n",
      "[LightGBM] [Warning] min_gain_to_split is set=4.31806378769763, min_split_gain=0.0 will be ignored. Current value: min_gain_to_split=4.31806378769763\n",
      "[LightGBM] [Warning] min_gain_to_split is set=4.31806378769763, min_split_gain=0.0 will be ignored. Current value: min_gain_to_split=4.31806378769763\n",
      "[LightGBM] [Warning] min_gain_to_split is set=0.03526749182839575, min_split_gain=0.0 will be ignored. Current value: min_gain_to_split=0.03526749182839575\n",
      "[LightGBM] [Warning] min_gain_to_split is set=0.03526749182839575, min_split_gain=0.0 will be ignored. Current value: min_gain_to_split=0.03526749182839575\n",
      "[LightGBM] [Warning] min_gain_to_split is set=0.03526749182839575, min_split_gain=0.0 will be ignored. Current value: min_gain_to_split=0.03526749182839575\n",
      "[LightGBM] [Warning] min_gain_to_split is set=0.03526749182839575, min_split_gain=0.0 will be ignored. Current value: min_gain_to_split=0.03526749182839575\n",
      "[LightGBM] [Warning] min_gain_to_split is set=0.03526749182839575, min_split_gain=0.0 will be ignored. Current value: min_gain_to_split=0.03526749182839575\n",
      "[LightGBM] [Warning] min_gain_to_split is set=0.03526749182839575, min_split_gain=0.0 will be ignored. Current value: min_gain_to_split=0.03526749182839575\n",
      "[LightGBM] [Warning] min_gain_to_split is set=0.03526749182839575, min_split_gain=0.0 will be ignored. Current value: min_gain_to_split=0.03526749182839575\n",
      "[LightGBM] [Warning] min_gain_to_split is set=0.03526749182839575, min_split_gain=0.0 will be ignored. Current value: min_gain_to_split=0.03526749182839575\n",
      "[LightGBM] [Warning] min_gain_to_split is set=0.03526749182839575, min_split_gain=0.0 will be ignored. Current value: min_gain_to_split=0.03526749182839575\n",
      "[LightGBM] [Warning] min_gain_to_split is set=0.03526749182839575, min_split_gain=0.0 will be ignored. Current value: min_gain_to_split=0.03526749182839575\n",
      "[LightGBM] [Warning] min_gain_to_split is set=14.798289242146984, min_split_gain=0.0 will be ignored. Current value: min_gain_to_split=14.798289242146984\n",
      "[LightGBM] [Warning] min_gain_to_split is set=14.798289242146984, min_split_gain=0.0 will be ignored. Current value: min_gain_to_split=14.798289242146984\n",
      "[LightGBM] [Warning] min_gain_to_split is set=14.798289242146984, min_split_gain=0.0 will be ignored. Current value: min_gain_to_split=14.798289242146984\n",
      "[LightGBM] [Warning] min_gain_to_split is set=14.798289242146984, min_split_gain=0.0 will be ignored. Current value: min_gain_to_split=14.798289242146984\n",
      "[LightGBM] [Warning] min_gain_to_split is set=14.798289242146984, min_split_gain=0.0 will be ignored. Current value: min_gain_to_split=14.798289242146984\n",
      "[LightGBM] [Warning] min_gain_to_split is set=14.798289242146984, min_split_gain=0.0 will be ignored. Current value: min_gain_to_split=14.798289242146984\n",
      "[LightGBM] [Warning] min_gain_to_split is set=14.798289242146984, min_split_gain=0.0 will be ignored. Current value: min_gain_to_split=14.798289242146984\n",
      "[LightGBM] [Warning] min_gain_to_split is set=14.798289242146984, min_split_gain=0.0 will be ignored. Current value: min_gain_to_split=14.798289242146984\n",
      "[LightGBM] [Warning] min_gain_to_split is set=14.798289242146984, min_split_gain=0.0 will be ignored. Current value: min_gain_to_split=14.798289242146984\n",
      "[LightGBM] [Warning] min_gain_to_split is set=14.798289242146984, min_split_gain=0.0 will be ignored. Current value: min_gain_to_split=14.798289242146984\n",
      "[LightGBM] [Warning] min_gain_to_split is set=1.2016736709492815, min_split_gain=0.0 will be ignored. Current value: min_gain_to_split=1.2016736709492815\n",
      "[LightGBM] [Warning] min_gain_to_split is set=1.2016736709492815, min_split_gain=0.0 will be ignored. Current value: min_gain_to_split=1.2016736709492815\n",
      "[LightGBM] [Warning] min_gain_to_split is set=1.2016736709492815, min_split_gain=0.0 will be ignored. Current value: min_gain_to_split=1.2016736709492815\n",
      "[LightGBM] [Warning] min_gain_to_split is set=1.2016736709492815, min_split_gain=0.0 will be ignored. Current value: min_gain_to_split=1.2016736709492815\n",
      "[LightGBM] [Warning] min_gain_to_split is set=1.2016736709492815, min_split_gain=0.0 will be ignored. Current value: min_gain_to_split=1.2016736709492815\n",
      "[LightGBM] [Warning] min_gain_to_split is set=1.2016736709492815, min_split_gain=0.0 will be ignored. Current value: min_gain_to_split=1.2016736709492815\n",
      "[LightGBM] [Warning] min_gain_to_split is set=1.2016736709492815, min_split_gain=0.0 will be ignored. Current value: min_gain_to_split=1.2016736709492815\n",
      "[LightGBM] [Warning] min_gain_to_split is set=1.2016736709492815, min_split_gain=0.0 will be ignored. Current value: min_gain_to_split=1.2016736709492815\n",
      "[LightGBM] [Warning] min_gain_to_split is set=1.2016736709492815, min_split_gain=0.0 will be ignored. Current value: min_gain_to_split=1.2016736709492815\n",
      "[LightGBM] [Warning] min_gain_to_split is set=1.2016736709492815, min_split_gain=0.0 will be ignored. Current value: min_gain_to_split=1.2016736709492815\n",
      "[LightGBM] [Warning] min_gain_to_split is set=0.081923876109476, min_split_gain=0.0 will be ignored. Current value: min_gain_to_split=0.081923876109476\n",
      "[LightGBM] [Warning] min_gain_to_split is set=0.081923876109476, min_split_gain=0.0 will be ignored. Current value: min_gain_to_split=0.081923876109476\n",
      "[LightGBM] [Warning] min_gain_to_split is set=0.081923876109476, min_split_gain=0.0 will be ignored. Current value: min_gain_to_split=0.081923876109476\n",
      "[LightGBM] [Warning] min_gain_to_split is set=0.081923876109476, min_split_gain=0.0 will be ignored. Current value: min_gain_to_split=0.081923876109476\n",
      "[LightGBM] [Warning] min_gain_to_split is set=0.081923876109476, min_split_gain=0.0 will be ignored. Current value: min_gain_to_split=0.081923876109476\n",
      "[LightGBM] [Warning] min_gain_to_split is set=0.081923876109476, min_split_gain=0.0 will be ignored. Current value: min_gain_to_split=0.081923876109476\n",
      "[LightGBM] [Warning] min_gain_to_split is set=0.081923876109476, min_split_gain=0.0 will be ignored. Current value: min_gain_to_split=0.081923876109476\n",
      "[LightGBM] [Warning] min_gain_to_split is set=0.081923876109476, min_split_gain=0.0 will be ignored. Current value: min_gain_to_split=0.081923876109476\n",
      "[LightGBM] [Warning] min_gain_to_split is set=0.081923876109476, min_split_gain=0.0 will be ignored. Current value: min_gain_to_split=0.081923876109476\n",
      "[LightGBM] [Warning] min_gain_to_split is set=0.081923876109476, min_split_gain=0.0 will be ignored. Current value: min_gain_to_split=0.081923876109476\n",
      "[LightGBM] [Warning] min_gain_to_split is set=2.2690744806985945, min_split_gain=0.0 will be ignored. Current value: min_gain_to_split=2.2690744806985945\n",
      "[LightGBM] [Warning] min_gain_to_split is set=2.2690744806985945, min_split_gain=0.0 will be ignored. Current value: min_gain_to_split=2.2690744806985945\n",
      "[LightGBM] [Warning] min_gain_to_split is set=2.2690744806985945, min_split_gain=0.0 will be ignored. Current value: min_gain_to_split=2.2690744806985945\n",
      "[LightGBM] [Warning] min_gain_to_split is set=2.2690744806985945, min_split_gain=0.0 will be ignored. Current value: min_gain_to_split=2.2690744806985945\n",
      "[LightGBM] [Warning] min_gain_to_split is set=2.2690744806985945, min_split_gain=0.0 will be ignored. Current value: min_gain_to_split=2.2690744806985945\n",
      "[LightGBM] [Warning] min_gain_to_split is set=2.2690744806985945, min_split_gain=0.0 will be ignored. Current value: min_gain_to_split=2.2690744806985945\n",
      "[LightGBM] [Warning] min_gain_to_split is set=2.2690744806985945, min_split_gain=0.0 will be ignored. Current value: min_gain_to_split=2.2690744806985945\n",
      "[LightGBM] [Warning] min_gain_to_split is set=2.2690744806985945, min_split_gain=0.0 will be ignored. Current value: min_gain_to_split=2.2690744806985945\n",
      "[LightGBM] [Warning] min_gain_to_split is set=2.2690744806985945, min_split_gain=0.0 will be ignored. Current value: min_gain_to_split=2.2690744806985945\n",
      "[LightGBM] [Warning] min_gain_to_split is set=2.2690744806985945, min_split_gain=0.0 will be ignored. Current value: min_gain_to_split=2.2690744806985945\n",
      "[LightGBM] [Warning] min_gain_to_split is set=3.8827852179484283, min_split_gain=0.0 will be ignored. Current value: min_gain_to_split=3.8827852179484283\n",
      "[LightGBM] [Warning] min_gain_to_split is set=3.8827852179484283, min_split_gain=0.0 will be ignored. Current value: min_gain_to_split=3.8827852179484283\n",
      "[LightGBM] [Warning] min_gain_to_split is set=3.8827852179484283, min_split_gain=0.0 will be ignored. Current value: min_gain_to_split=3.8827852179484283\n",
      "[LightGBM] [Warning] min_gain_to_split is set=3.8827852179484283, min_split_gain=0.0 will be ignored. Current value: min_gain_to_split=3.8827852179484283\n",
      "[LightGBM] [Warning] min_gain_to_split is set=3.8827852179484283, min_split_gain=0.0 will be ignored. Current value: min_gain_to_split=3.8827852179484283\n",
      "[LightGBM] [Warning] min_gain_to_split is set=3.8827852179484283, min_split_gain=0.0 will be ignored. Current value: min_gain_to_split=3.8827852179484283\n",
      "[LightGBM] [Warning] min_gain_to_split is set=3.8827852179484283, min_split_gain=0.0 will be ignored. Current value: min_gain_to_split=3.8827852179484283\n",
      "[LightGBM] [Warning] min_gain_to_split is set=3.8827852179484283, min_split_gain=0.0 will be ignored. Current value: min_gain_to_split=3.8827852179484283\n",
      "[LightGBM] [Warning] min_gain_to_split is set=3.8827852179484283, min_split_gain=0.0 will be ignored. Current value: min_gain_to_split=3.8827852179484283\n",
      "[LightGBM] [Warning] min_gain_to_split is set=3.8827852179484283, min_split_gain=0.0 will be ignored. Current value: min_gain_to_split=3.8827852179484283\n",
      "[LightGBM] [Warning] min_gain_to_split is set=10.53514334022891, min_split_gain=0.0 will be ignored. Current value: min_gain_to_split=10.53514334022891\n",
      "[LightGBM] [Warning] min_gain_to_split is set=10.53514334022891, min_split_gain=0.0 will be ignored. Current value: min_gain_to_split=10.53514334022891\n",
      "[LightGBM] [Warning] min_gain_to_split is set=10.53514334022891, min_split_gain=0.0 will be ignored. Current value: min_gain_to_split=10.53514334022891\n",
      "[LightGBM] [Warning] min_gain_to_split is set=10.53514334022891, min_split_gain=0.0 will be ignored. Current value: min_gain_to_split=10.53514334022891\n",
      "[LightGBM] [Warning] min_gain_to_split is set=10.53514334022891, min_split_gain=0.0 will be ignored. Current value: min_gain_to_split=10.53514334022891\n",
      "[LightGBM] [Warning] min_gain_to_split is set=10.53514334022891, min_split_gain=0.0 will be ignored. Current value: min_gain_to_split=10.53514334022891\n",
      "[LightGBM] [Warning] min_gain_to_split is set=10.53514334022891, min_split_gain=0.0 will be ignored. Current value: min_gain_to_split=10.53514334022891\n",
      "[LightGBM] [Warning] min_gain_to_split is set=10.53514334022891, min_split_gain=0.0 will be ignored. Current value: min_gain_to_split=10.53514334022891\n",
      "[LightGBM] [Warning] min_gain_to_split is set=10.53514334022891, min_split_gain=0.0 will be ignored. Current value: min_gain_to_split=10.53514334022891\n",
      "[LightGBM] [Warning] min_gain_to_split is set=10.53514334022891, min_split_gain=0.0 will be ignored. Current value: min_gain_to_split=10.53514334022891\n",
      "[LightGBM] [Warning] min_gain_to_split is set=0.8779063863995447, min_split_gain=0.0 will be ignored. Current value: min_gain_to_split=0.8779063863995447\n",
      "[LightGBM] [Warning] min_gain_to_split is set=0.8779063863995447, min_split_gain=0.0 will be ignored. Current value: min_gain_to_split=0.8779063863995447\n",
      "[LightGBM] [Warning] min_gain_to_split is set=0.8779063863995447, min_split_gain=0.0 will be ignored. Current value: min_gain_to_split=0.8779063863995447\n",
      "[LightGBM] [Warning] min_gain_to_split is set=0.8779063863995447, min_split_gain=0.0 will be ignored. Current value: min_gain_to_split=0.8779063863995447\n",
      "[LightGBM] [Warning] min_gain_to_split is set=0.8779063863995447, min_split_gain=0.0 will be ignored. Current value: min_gain_to_split=0.8779063863995447\n",
      "[LightGBM] [Warning] min_gain_to_split is set=0.8779063863995447, min_split_gain=0.0 will be ignored. Current value: min_gain_to_split=0.8779063863995447\n",
      "[LightGBM] [Warning] min_gain_to_split is set=0.8779063863995447, min_split_gain=0.0 will be ignored. Current value: min_gain_to_split=0.8779063863995447\n",
      "[LightGBM] [Warning] min_gain_to_split is set=0.8779063863995447, min_split_gain=0.0 will be ignored. Current value: min_gain_to_split=0.8779063863995447\n",
      "[LightGBM] [Warning] min_gain_to_split is set=0.8779063863995447, min_split_gain=0.0 will be ignored. Current value: min_gain_to_split=0.8779063863995447\n",
      "[LightGBM] [Warning] min_gain_to_split is set=0.8779063863995447, min_split_gain=0.0 will be ignored. Current value: min_gain_to_split=0.8779063863995447\n",
      "[LightGBM] [Warning] min_gain_to_split is set=0.12840227977936897, min_split_gain=0.0 will be ignored. Current value: min_gain_to_split=0.12840227977936897\n",
      "[LightGBM] [Warning] min_gain_to_split is set=0.12840227977936897, min_split_gain=0.0 will be ignored. Current value: min_gain_to_split=0.12840227977936897\n",
      "[LightGBM] [Warning] min_gain_to_split is set=0.12840227977936897, min_split_gain=0.0 will be ignored. Current value: min_gain_to_split=0.12840227977936897\n",
      "[LightGBM] [Warning] min_gain_to_split is set=0.12840227977936897, min_split_gain=0.0 will be ignored. Current value: min_gain_to_split=0.12840227977936897\n",
      "[LightGBM] [Warning] min_gain_to_split is set=0.12840227977936897, min_split_gain=0.0 will be ignored. Current value: min_gain_to_split=0.12840227977936897\n",
      "[LightGBM] [Warning] min_gain_to_split is set=0.12840227977936897, min_split_gain=0.0 will be ignored. Current value: min_gain_to_split=0.12840227977936897\n",
      "[LightGBM] [Warning] min_gain_to_split is set=0.12840227977936897, min_split_gain=0.0 will be ignored. Current value: min_gain_to_split=0.12840227977936897\n",
      "[LightGBM] [Warning] min_gain_to_split is set=0.12840227977936897, min_split_gain=0.0 will be ignored. Current value: min_gain_to_split=0.12840227977936897\n",
      "[LightGBM] [Warning] min_gain_to_split is set=0.12840227977936897, min_split_gain=0.0 will be ignored. Current value: min_gain_to_split=0.12840227977936897\n",
      "[LightGBM] [Warning] min_gain_to_split is set=0.12840227977936897, min_split_gain=0.0 will be ignored. Current value: min_gain_to_split=0.12840227977936897\n",
      "[LightGBM] [Warning] min_gain_to_split is set=1.1424034291561398, min_split_gain=0.0 will be ignored. Current value: min_gain_to_split=1.1424034291561398\n",
      "[LightGBM] [Warning] min_gain_to_split is set=1.1424034291561398, min_split_gain=0.0 will be ignored. Current value: min_gain_to_split=1.1424034291561398\n",
      "[LightGBM] [Warning] min_gain_to_split is set=1.1424034291561398, min_split_gain=0.0 will be ignored. Current value: min_gain_to_split=1.1424034291561398\n",
      "[LightGBM] [Warning] min_gain_to_split is set=1.1424034291561398, min_split_gain=0.0 will be ignored. Current value: min_gain_to_split=1.1424034291561398\n",
      "[LightGBM] [Warning] min_gain_to_split is set=1.1424034291561398, min_split_gain=0.0 will be ignored. Current value: min_gain_to_split=1.1424034291561398\n",
      "[LightGBM] [Warning] min_gain_to_split is set=1.1424034291561398, min_split_gain=0.0 will be ignored. Current value: min_gain_to_split=1.1424034291561398\n",
      "[LightGBM] [Warning] min_gain_to_split is set=1.1424034291561398, min_split_gain=0.0 will be ignored. Current value: min_gain_to_split=1.1424034291561398\n",
      "[LightGBM] [Warning] min_gain_to_split is set=1.1424034291561398, min_split_gain=0.0 will be ignored. Current value: min_gain_to_split=1.1424034291561398\n",
      "[LightGBM] [Warning] min_gain_to_split is set=1.1424034291561398, min_split_gain=0.0 will be ignored. Current value: min_gain_to_split=1.1424034291561398\n",
      "[LightGBM] [Warning] min_gain_to_split is set=1.1424034291561398, min_split_gain=0.0 will be ignored. Current value: min_gain_to_split=1.1424034291561398\n",
      "[LightGBM] [Warning] min_gain_to_split is set=2.514871592743016, min_split_gain=0.0 will be ignored. Current value: min_gain_to_split=2.514871592743016\n",
      "[LightGBM] [Warning] min_gain_to_split is set=2.514871592743016, min_split_gain=0.0 will be ignored. Current value: min_gain_to_split=2.514871592743016\n",
      "[LightGBM] [Warning] min_gain_to_split is set=2.514871592743016, min_split_gain=0.0 will be ignored. Current value: min_gain_to_split=2.514871592743016\n",
      "[LightGBM] [Warning] min_gain_to_split is set=2.514871592743016, min_split_gain=0.0 will be ignored. Current value: min_gain_to_split=2.514871592743016\n",
      "[LightGBM] [Warning] min_gain_to_split is set=2.514871592743016, min_split_gain=0.0 will be ignored. Current value: min_gain_to_split=2.514871592743016\n",
      "[LightGBM] [Warning] min_gain_to_split is set=2.514871592743016, min_split_gain=0.0 will be ignored. Current value: min_gain_to_split=2.514871592743016\n",
      "[LightGBM] [Warning] min_gain_to_split is set=2.514871592743016, min_split_gain=0.0 will be ignored. Current value: min_gain_to_split=2.514871592743016\n",
      "[LightGBM] [Warning] min_gain_to_split is set=2.514871592743016, min_split_gain=0.0 will be ignored. Current value: min_gain_to_split=2.514871592743016\n",
      "[LightGBM] [Warning] min_gain_to_split is set=2.514871592743016, min_split_gain=0.0 will be ignored. Current value: min_gain_to_split=2.514871592743016\n",
      "[LightGBM] [Warning] min_gain_to_split is set=2.514871592743016, min_split_gain=0.0 will be ignored. Current value: min_gain_to_split=2.514871592743016\n",
      "[LightGBM] [Warning] min_gain_to_split is set=4.874755211968388, min_split_gain=0.0 will be ignored. Current value: min_gain_to_split=4.874755211968388\n",
      "[LightGBM] [Warning] min_gain_to_split is set=4.874755211968388, min_split_gain=0.0 will be ignored. Current value: min_gain_to_split=4.874755211968388\n",
      "[LightGBM] [Warning] min_gain_to_split is set=4.874755211968388, min_split_gain=0.0 will be ignored. Current value: min_gain_to_split=4.874755211968388\n",
      "[LightGBM] [Warning] min_gain_to_split is set=4.874755211968388, min_split_gain=0.0 will be ignored. Current value: min_gain_to_split=4.874755211968388\n",
      "[LightGBM] [Warning] min_gain_to_split is set=4.874755211968388, min_split_gain=0.0 will be ignored. Current value: min_gain_to_split=4.874755211968388\n",
      "[LightGBM] [Warning] min_gain_to_split is set=4.874755211968388, min_split_gain=0.0 will be ignored. Current value: min_gain_to_split=4.874755211968388\n",
      "[LightGBM] [Warning] min_gain_to_split is set=4.874755211968388, min_split_gain=0.0 will be ignored. Current value: min_gain_to_split=4.874755211968388\n",
      "[LightGBM] [Warning] min_gain_to_split is set=4.874755211968388, min_split_gain=0.0 will be ignored. Current value: min_gain_to_split=4.874755211968388\n",
      "[LightGBM] [Warning] min_gain_to_split is set=4.874755211968388, min_split_gain=0.0 will be ignored. Current value: min_gain_to_split=4.874755211968388\n",
      "[LightGBM] [Warning] min_gain_to_split is set=4.874755211968388, min_split_gain=0.0 will be ignored. Current value: min_gain_to_split=4.874755211968388\n",
      "[LightGBM] [Warning] min_gain_to_split is set=0.0577219130876876, min_split_gain=0.0 will be ignored. Current value: min_gain_to_split=0.0577219130876876\n",
      "[LightGBM] [Warning] min_gain_to_split is set=0.0577219130876876, min_split_gain=0.0 will be ignored. Current value: min_gain_to_split=0.0577219130876876\n",
      "[LightGBM] [Warning] min_gain_to_split is set=0.0577219130876876, min_split_gain=0.0 will be ignored. Current value: min_gain_to_split=0.0577219130876876\n",
      "[LightGBM] [Warning] min_gain_to_split is set=0.0577219130876876, min_split_gain=0.0 will be ignored. Current value: min_gain_to_split=0.0577219130876876\n",
      "[LightGBM] [Warning] min_gain_to_split is set=0.0577219130876876, min_split_gain=0.0 will be ignored. Current value: min_gain_to_split=0.0577219130876876\n",
      "[LightGBM] [Warning] min_gain_to_split is set=0.0577219130876876, min_split_gain=0.0 will be ignored. Current value: min_gain_to_split=0.0577219130876876\n",
      "[LightGBM] [Warning] min_gain_to_split is set=0.0577219130876876, min_split_gain=0.0 will be ignored. Current value: min_gain_to_split=0.0577219130876876\n",
      "[LightGBM] [Warning] min_gain_to_split is set=0.0577219130876876, min_split_gain=0.0 will be ignored. Current value: min_gain_to_split=0.0577219130876876\n",
      "[LightGBM] [Warning] min_gain_to_split is set=0.0577219130876876, min_split_gain=0.0 will be ignored. Current value: min_gain_to_split=0.0577219130876876\n",
      "[LightGBM] [Warning] min_gain_to_split is set=0.0577219130876876, min_split_gain=0.0 will be ignored. Current value: min_gain_to_split=0.0577219130876876\n",
      "[LightGBM] [Warning] min_gain_to_split is set=1.4409628532851417, min_split_gain=0.0 will be ignored. Current value: min_gain_to_split=1.4409628532851417\n",
      "[LightGBM] [Warning] min_gain_to_split is set=1.4409628532851417, min_split_gain=0.0 will be ignored. Current value: min_gain_to_split=1.4409628532851417\n",
      "[LightGBM] [Warning] min_gain_to_split is set=1.4409628532851417, min_split_gain=0.0 will be ignored. Current value: min_gain_to_split=1.4409628532851417\n",
      "[LightGBM] [Warning] min_gain_to_split is set=1.4409628532851417, min_split_gain=0.0 will be ignored. Current value: min_gain_to_split=1.4409628532851417\n",
      "[LightGBM] [Warning] min_gain_to_split is set=1.4409628532851417, min_split_gain=0.0 will be ignored. Current value: min_gain_to_split=1.4409628532851417\n",
      "[LightGBM] [Warning] min_gain_to_split is set=1.4409628532851417, min_split_gain=0.0 will be ignored. Current value: min_gain_to_split=1.4409628532851417\n",
      "[LightGBM] [Warning] min_gain_to_split is set=1.4409628532851417, min_split_gain=0.0 will be ignored. Current value: min_gain_to_split=1.4409628532851417\n",
      "[LightGBM] [Warning] min_gain_to_split is set=1.4409628532851417, min_split_gain=0.0 will be ignored. Current value: min_gain_to_split=1.4409628532851417\n",
      "[LightGBM] [Warning] min_gain_to_split is set=1.4409628532851417, min_split_gain=0.0 will be ignored. Current value: min_gain_to_split=1.4409628532851417\n",
      "[LightGBM] [Warning] min_gain_to_split is set=1.4409628532851417, min_split_gain=0.0 will be ignored. Current value: min_gain_to_split=1.4409628532851417\n",
      "[LightGBM] [Warning] min_gain_to_split is set=3.4748894289110885, min_split_gain=0.0 will be ignored. Current value: min_gain_to_split=3.4748894289110885\n",
      "[LightGBM] [Warning] min_gain_to_split is set=3.4748894289110885, min_split_gain=0.0 will be ignored. Current value: min_gain_to_split=3.4748894289110885\n",
      "[LightGBM] [Warning] min_gain_to_split is set=3.4748894289110885, min_split_gain=0.0 will be ignored. Current value: min_gain_to_split=3.4748894289110885\n",
      "[LightGBM] [Warning] min_gain_to_split is set=3.4748894289110885, min_split_gain=0.0 will be ignored. Current value: min_gain_to_split=3.4748894289110885\n",
      "[LightGBM] [Warning] min_gain_to_split is set=3.4748894289110885, min_split_gain=0.0 will be ignored. Current value: min_gain_to_split=3.4748894289110885\n",
      "[LightGBM] [Warning] min_gain_to_split is set=3.4748894289110885, min_split_gain=0.0 will be ignored. Current value: min_gain_to_split=3.4748894289110885\n",
      "[LightGBM] [Warning] min_gain_to_split is set=3.4748894289110885, min_split_gain=0.0 will be ignored. Current value: min_gain_to_split=3.4748894289110885\n",
      "[LightGBM] [Warning] min_gain_to_split is set=3.4748894289110885, min_split_gain=0.0 will be ignored. Current value: min_gain_to_split=3.4748894289110885\n",
      "[LightGBM] [Warning] min_gain_to_split is set=3.4748894289110885, min_split_gain=0.0 will be ignored. Current value: min_gain_to_split=3.4748894289110885\n",
      "[LightGBM] [Warning] min_gain_to_split is set=3.4748894289110885, min_split_gain=0.0 will be ignored. Current value: min_gain_to_split=3.4748894289110885\n",
      "[LightGBM] [Warning] min_gain_to_split is set=6.764926070406806, min_split_gain=0.0 will be ignored. Current value: min_gain_to_split=6.764926070406806\n",
      "[LightGBM] [Warning] min_gain_to_split is set=6.764926070406806, min_split_gain=0.0 will be ignored. Current value: min_gain_to_split=6.764926070406806\n",
      "[LightGBM] [Warning] min_gain_to_split is set=6.764926070406806, min_split_gain=0.0 will be ignored. Current value: min_gain_to_split=6.764926070406806\n",
      "[LightGBM] [Warning] min_gain_to_split is set=6.764926070406806, min_split_gain=0.0 will be ignored. Current value: min_gain_to_split=6.764926070406806\n",
      "[LightGBM] [Warning] min_gain_to_split is set=6.764926070406806, min_split_gain=0.0 will be ignored. Current value: min_gain_to_split=6.764926070406806\n",
      "[LightGBM] [Warning] min_gain_to_split is set=6.764926070406806, min_split_gain=0.0 will be ignored. Current value: min_gain_to_split=6.764926070406806\n",
      "[LightGBM] [Warning] min_gain_to_split is set=6.764926070406806, min_split_gain=0.0 will be ignored. Current value: min_gain_to_split=6.764926070406806\n",
      "[LightGBM] [Warning] min_gain_to_split is set=6.764926070406806, min_split_gain=0.0 will be ignored. Current value: min_gain_to_split=6.764926070406806\n",
      "[LightGBM] [Warning] min_gain_to_split is set=6.764926070406806, min_split_gain=0.0 will be ignored. Current value: min_gain_to_split=6.764926070406806\n",
      "[LightGBM] [Warning] min_gain_to_split is set=6.764926070406806, min_split_gain=0.0 will be ignored. Current value: min_gain_to_split=6.764926070406806\n",
      "[LightGBM] [Warning] min_gain_to_split is set=0.7001219142815736, min_split_gain=0.0 will be ignored. Current value: min_gain_to_split=0.7001219142815736\n",
      "[LightGBM] [Warning] min_gain_to_split is set=0.7001219142815736, min_split_gain=0.0 will be ignored. Current value: min_gain_to_split=0.7001219142815736\n",
      "[LightGBM] [Warning] min_gain_to_split is set=0.7001219142815736, min_split_gain=0.0 will be ignored. Current value: min_gain_to_split=0.7001219142815736\n",
      "[LightGBM] [Warning] min_gain_to_split is set=0.7001219142815736, min_split_gain=0.0 will be ignored. Current value: min_gain_to_split=0.7001219142815736\n",
      "[LightGBM] [Warning] min_gain_to_split is set=0.7001219142815736, min_split_gain=0.0 will be ignored. Current value: min_gain_to_split=0.7001219142815736\n",
      "[LightGBM] [Warning] min_gain_to_split is set=0.7001219142815736, min_split_gain=0.0 will be ignored. Current value: min_gain_to_split=0.7001219142815736\n",
      "[LightGBM] [Warning] min_gain_to_split is set=0.7001219142815736, min_split_gain=0.0 will be ignored. Current value: min_gain_to_split=0.7001219142815736\n",
      "[LightGBM] [Warning] min_gain_to_split is set=0.7001219142815736, min_split_gain=0.0 will be ignored. Current value: min_gain_to_split=0.7001219142815736\n",
      "[LightGBM] [Warning] min_gain_to_split is set=0.7001219142815736, min_split_gain=0.0 will be ignored. Current value: min_gain_to_split=0.7001219142815736\n",
      "[LightGBM] [Warning] min_gain_to_split is set=0.7001219142815736, min_split_gain=0.0 will be ignored. Current value: min_gain_to_split=0.7001219142815736\n",
      "[LightGBM] [Warning] min_gain_to_split is set=0.10464614120846934, min_split_gain=0.0 will be ignored. Current value: min_gain_to_split=0.10464614120846934\n",
      "[LightGBM] [Warning] min_gain_to_split is set=0.10464614120846934, min_split_gain=0.0 will be ignored. Current value: min_gain_to_split=0.10464614120846934\n",
      "[LightGBM] [Warning] min_gain_to_split is set=0.10464614120846934, min_split_gain=0.0 will be ignored. Current value: min_gain_to_split=0.10464614120846934\n",
      "[LightGBM] [Warning] min_gain_to_split is set=0.10464614120846934, min_split_gain=0.0 will be ignored. Current value: min_gain_to_split=0.10464614120846934\n",
      "[LightGBM] [Warning] min_gain_to_split is set=0.10464614120846934, min_split_gain=0.0 will be ignored. Current value: min_gain_to_split=0.10464614120846934\n",
      "[LightGBM] [Warning] min_gain_to_split is set=0.10464614120846934, min_split_gain=0.0 will be ignored. Current value: min_gain_to_split=0.10464614120846934\n",
      "[LightGBM] [Warning] min_gain_to_split is set=0.10464614120846934, min_split_gain=0.0 will be ignored. Current value: min_gain_to_split=0.10464614120846934\n",
      "[LightGBM] [Warning] min_gain_to_split is set=0.10464614120846934, min_split_gain=0.0 will be ignored. Current value: min_gain_to_split=0.10464614120846934\n",
      "[LightGBM] [Warning] min_gain_to_split is set=0.10464614120846934, min_split_gain=0.0 will be ignored. Current value: min_gain_to_split=0.10464614120846934\n",
      "[LightGBM] [Warning] min_gain_to_split is set=0.10464614120846934, min_split_gain=0.0 will be ignored. Current value: min_gain_to_split=0.10464614120846934\n",
      "[LightGBM] [Warning] min_gain_to_split is set=1.9619426213936029, min_split_gain=0.0 will be ignored. Current value: min_gain_to_split=1.9619426213936029\n",
      "[LightGBM] [Warning] min_gain_to_split is set=1.9619426213936029, min_split_gain=0.0 will be ignored. Current value: min_gain_to_split=1.9619426213936029\n",
      "[LightGBM] [Warning] min_gain_to_split is set=1.9619426213936029, min_split_gain=0.0 will be ignored. Current value: min_gain_to_split=1.9619426213936029\n",
      "[LightGBM] [Warning] min_gain_to_split is set=1.9619426213936029, min_split_gain=0.0 will be ignored. Current value: min_gain_to_split=1.9619426213936029\n",
      "[LightGBM] [Warning] min_gain_to_split is set=1.9619426213936029, min_split_gain=0.0 will be ignored. Current value: min_gain_to_split=1.9619426213936029\n",
      "[LightGBM] [Warning] min_gain_to_split is set=1.9619426213936029, min_split_gain=0.0 will be ignored. Current value: min_gain_to_split=1.9619426213936029\n",
      "[LightGBM] [Warning] min_gain_to_split is set=1.9619426213936029, min_split_gain=0.0 will be ignored. Current value: min_gain_to_split=1.9619426213936029\n",
      "[LightGBM] [Warning] min_gain_to_split is set=1.9619426213936029, min_split_gain=0.0 will be ignored. Current value: min_gain_to_split=1.9619426213936029\n",
      "[LightGBM] [Warning] min_gain_to_split is set=1.9619426213936029, min_split_gain=0.0 will be ignored. Current value: min_gain_to_split=1.9619426213936029\n",
      "[LightGBM] [Warning] min_gain_to_split is set=1.9619426213936029, min_split_gain=0.0 will be ignored. Current value: min_gain_to_split=1.9619426213936029\n",
      "[LightGBM] [Warning] min_gain_to_split is set=0.6331075178366785, min_split_gain=0.0 will be ignored. Current value: min_gain_to_split=0.6331075178366785\n",
      "[LightGBM] [Warning] min_gain_to_split is set=0.6331075178366785, min_split_gain=0.0 will be ignored. Current value: min_gain_to_split=0.6331075178366785\n",
      "[LightGBM] [Warning] min_gain_to_split is set=0.6331075178366785, min_split_gain=0.0 will be ignored. Current value: min_gain_to_split=0.6331075178366785\n",
      "[LightGBM] [Warning] min_gain_to_split is set=0.6331075178366785, min_split_gain=0.0 will be ignored. Current value: min_gain_to_split=0.6331075178366785\n",
      "[LightGBM] [Warning] min_gain_to_split is set=0.6331075178366785, min_split_gain=0.0 will be ignored. Current value: min_gain_to_split=0.6331075178366785\n",
      "[LightGBM] [Warning] min_gain_to_split is set=0.6331075178366785, min_split_gain=0.0 will be ignored. Current value: min_gain_to_split=0.6331075178366785\n",
      "[LightGBM] [Warning] min_gain_to_split is set=0.6331075178366785, min_split_gain=0.0 will be ignored. Current value: min_gain_to_split=0.6331075178366785\n",
      "[LightGBM] [Warning] min_gain_to_split is set=0.6331075178366785, min_split_gain=0.0 will be ignored. Current value: min_gain_to_split=0.6331075178366785\n",
      "[LightGBM] [Warning] min_gain_to_split is set=0.6331075178366785, min_split_gain=0.0 will be ignored. Current value: min_gain_to_split=0.6331075178366785\n",
      "[LightGBM] [Warning] min_gain_to_split is set=0.6331075178366785, min_split_gain=0.0 will be ignored. Current value: min_gain_to_split=0.6331075178366785\n",
      "[LightGBM] [Warning] min_gain_to_split is set=1.486963929915925, min_split_gain=0.0 will be ignored. Current value: min_gain_to_split=1.486963929915925\n",
      "[LightGBM] [Warning] min_gain_to_split is set=1.486963929915925, min_split_gain=0.0 will be ignored. Current value: min_gain_to_split=1.486963929915925\n",
      "[LightGBM] [Warning] min_gain_to_split is set=1.486963929915925, min_split_gain=0.0 will be ignored. Current value: min_gain_to_split=1.486963929915925\n",
      "[LightGBM] [Warning] min_gain_to_split is set=1.486963929915925, min_split_gain=0.0 will be ignored. Current value: min_gain_to_split=1.486963929915925\n",
      "[LightGBM] [Warning] min_gain_to_split is set=1.486963929915925, min_split_gain=0.0 will be ignored. Current value: min_gain_to_split=1.486963929915925\n",
      "[LightGBM] [Warning] min_gain_to_split is set=1.486963929915925, min_split_gain=0.0 will be ignored. Current value: min_gain_to_split=1.486963929915925\n",
      "[LightGBM] [Warning] min_gain_to_split is set=1.486963929915925, min_split_gain=0.0 will be ignored. Current value: min_gain_to_split=1.486963929915925\n",
      "[LightGBM] [Warning] min_gain_to_split is set=1.486963929915925, min_split_gain=0.0 will be ignored. Current value: min_gain_to_split=1.486963929915925\n",
      "[LightGBM] [Warning] min_gain_to_split is set=1.486963929915925, min_split_gain=0.0 will be ignored. Current value: min_gain_to_split=1.486963929915925\n",
      "[LightGBM] [Warning] min_gain_to_split is set=1.486963929915925, min_split_gain=0.0 will be ignored. Current value: min_gain_to_split=1.486963929915925\n",
      "[LightGBM] [Warning] min_gain_to_split is set=11.818948377742522, min_split_gain=0.0 will be ignored. Current value: min_gain_to_split=11.818948377742522\n",
      "[LightGBM] [Warning] min_gain_to_split is set=11.818948377742522, min_split_gain=0.0 will be ignored. Current value: min_gain_to_split=11.818948377742522\n",
      "[LightGBM] [Warning] min_gain_to_split is set=11.818948377742522, min_split_gain=0.0 will be ignored. Current value: min_gain_to_split=11.818948377742522\n",
      "[LightGBM] [Warning] min_gain_to_split is set=11.818948377742522, min_split_gain=0.0 will be ignored. Current value: min_gain_to_split=11.818948377742522\n",
      "[LightGBM] [Warning] min_gain_to_split is set=11.818948377742522, min_split_gain=0.0 will be ignored. Current value: min_gain_to_split=11.818948377742522\n",
      "[LightGBM] [Warning] min_gain_to_split is set=11.818948377742522, min_split_gain=0.0 will be ignored. Current value: min_gain_to_split=11.818948377742522\n",
      "[LightGBM] [Warning] min_gain_to_split is set=11.818948377742522, min_split_gain=0.0 will be ignored. Current value: min_gain_to_split=11.818948377742522\n",
      "[LightGBM] [Warning] min_gain_to_split is set=11.818948377742522, min_split_gain=0.0 will be ignored. Current value: min_gain_to_split=11.818948377742522\n",
      "[LightGBM] [Warning] min_gain_to_split is set=11.818948377742522, min_split_gain=0.0 will be ignored. Current value: min_gain_to_split=11.818948377742522\n",
      "[LightGBM] [Warning] min_gain_to_split is set=11.818948377742522, min_split_gain=0.0 will be ignored. Current value: min_gain_to_split=11.818948377742522\n",
      "[LightGBM] [Warning] min_gain_to_split is set=2.7625899557960114, min_split_gain=0.0 will be ignored. Current value: min_gain_to_split=2.7625899557960114\n",
      "[LightGBM] [Warning] min_gain_to_split is set=2.7625899557960114, min_split_gain=0.0 will be ignored. Current value: min_gain_to_split=2.7625899557960114\n",
      "[LightGBM] [Warning] min_gain_to_split is set=2.7625899557960114, min_split_gain=0.0 will be ignored. Current value: min_gain_to_split=2.7625899557960114\n",
      "[LightGBM] [Warning] min_gain_to_split is set=2.7625899557960114, min_split_gain=0.0 will be ignored. Current value: min_gain_to_split=2.7625899557960114\n",
      "[LightGBM] [Warning] min_gain_to_split is set=2.7625899557960114, min_split_gain=0.0 will be ignored. Current value: min_gain_to_split=2.7625899557960114\n",
      "[LightGBM] [Warning] min_gain_to_split is set=2.7625899557960114, min_split_gain=0.0 will be ignored. Current value: min_gain_to_split=2.7625899557960114\n",
      "[LightGBM] [Warning] min_gain_to_split is set=2.7625899557960114, min_split_gain=0.0 will be ignored. Current value: min_gain_to_split=2.7625899557960114\n",
      "[LightGBM] [Warning] min_gain_to_split is set=2.7625899557960114, min_split_gain=0.0 will be ignored. Current value: min_gain_to_split=2.7625899557960114\n",
      "[LightGBM] [Warning] min_gain_to_split is set=2.7625899557960114, min_split_gain=0.0 will be ignored. Current value: min_gain_to_split=2.7625899557960114\n",
      "[LightGBM] [Warning] min_gain_to_split is set=2.7625899557960114, min_split_gain=0.0 will be ignored. Current value: min_gain_to_split=2.7625899557960114\n",
      "[LightGBM] [Warning] min_gain_to_split is set=0.047224441493928446, min_split_gain=0.0 will be ignored. Current value: min_gain_to_split=0.047224441493928446\n",
      "[LightGBM] [Warning] min_gain_to_split is set=0.047224441493928446, min_split_gain=0.0 will be ignored. Current value: min_gain_to_split=0.047224441493928446\n",
      "[LightGBM] [Warning] min_gain_to_split is set=0.047224441493928446, min_split_gain=0.0 will be ignored. Current value: min_gain_to_split=0.047224441493928446\n",
      "[LightGBM] [Warning] min_gain_to_split is set=0.047224441493928446, min_split_gain=0.0 will be ignored. Current value: min_gain_to_split=0.047224441493928446\n",
      "[LightGBM] [Warning] min_gain_to_split is set=0.047224441493928446, min_split_gain=0.0 will be ignored. Current value: min_gain_to_split=0.047224441493928446\n",
      "[LightGBM] [Warning] min_gain_to_split is set=0.047224441493928446, min_split_gain=0.0 will be ignored. Current value: min_gain_to_split=0.047224441493928446\n",
      "[LightGBM] [Warning] min_gain_to_split is set=0.047224441493928446, min_split_gain=0.0 will be ignored. Current value: min_gain_to_split=0.047224441493928446\n",
      "[LightGBM] [Warning] min_gain_to_split is set=0.047224441493928446, min_split_gain=0.0 will be ignored. Current value: min_gain_to_split=0.047224441493928446\n",
      "[LightGBM] [Warning] min_gain_to_split is set=0.047224441493928446, min_split_gain=0.0 will be ignored. Current value: min_gain_to_split=0.047224441493928446\n",
      "[LightGBM] [Warning] min_gain_to_split is set=0.047224441493928446, min_split_gain=0.0 will be ignored. Current value: min_gain_to_split=0.047224441493928446\n",
      "[LightGBM] [Warning] min_gain_to_split is set=0.6341560878099365, min_split_gain=0.0 will be ignored. Current value: min_gain_to_split=0.6341560878099365\n",
      "[LightGBM] [Warning] min_gain_to_split is set=0.6341560878099365, min_split_gain=0.0 will be ignored. Current value: min_gain_to_split=0.6341560878099365\n",
      "[LightGBM] [Warning] min_gain_to_split is set=0.6341560878099365, min_split_gain=0.0 will be ignored. Current value: min_gain_to_split=0.6341560878099365\n",
      "[LightGBM] [Warning] min_gain_to_split is set=0.6341560878099365, min_split_gain=0.0 will be ignored. Current value: min_gain_to_split=0.6341560878099365\n",
      "[LightGBM] [Warning] min_gain_to_split is set=0.6341560878099365, min_split_gain=0.0 will be ignored. Current value: min_gain_to_split=0.6341560878099365\n",
      "[LightGBM] [Warning] min_gain_to_split is set=0.6341560878099365, min_split_gain=0.0 will be ignored. Current value: min_gain_to_split=0.6341560878099365\n",
      "[LightGBM] [Warning] min_gain_to_split is set=0.6341560878099365, min_split_gain=0.0 will be ignored. Current value: min_gain_to_split=0.6341560878099365\n",
      "[LightGBM] [Warning] min_gain_to_split is set=0.6341560878099365, min_split_gain=0.0 will be ignored. Current value: min_gain_to_split=0.6341560878099365\n",
      "[LightGBM] [Warning] min_gain_to_split is set=0.6341560878099365, min_split_gain=0.0 will be ignored. Current value: min_gain_to_split=0.6341560878099365\n",
      "[LightGBM] [Warning] min_gain_to_split is set=0.6341560878099365, min_split_gain=0.0 will be ignored. Current value: min_gain_to_split=0.6341560878099365\n",
      "[LightGBM] [Warning] min_gain_to_split is set=3.298044778667044, min_split_gain=0.0 will be ignored. Current value: min_gain_to_split=3.298044778667044\n",
      "[LightGBM] [Warning] min_gain_to_split is set=3.298044778667044, min_split_gain=0.0 will be ignored. Current value: min_gain_to_split=3.298044778667044\n",
      "[LightGBM] [Warning] min_gain_to_split is set=3.298044778667044, min_split_gain=0.0 will be ignored. Current value: min_gain_to_split=3.298044778667044\n",
      "[LightGBM] [Warning] min_gain_to_split is set=3.298044778667044, min_split_gain=0.0 will be ignored. Current value: min_gain_to_split=3.298044778667044\n",
      "[LightGBM] [Warning] min_gain_to_split is set=3.298044778667044, min_split_gain=0.0 will be ignored. Current value: min_gain_to_split=3.298044778667044\n",
      "[LightGBM] [Warning] min_gain_to_split is set=3.298044778667044, min_split_gain=0.0 will be ignored. Current value: min_gain_to_split=3.298044778667044\n",
      "[LightGBM] [Warning] min_gain_to_split is set=3.298044778667044, min_split_gain=0.0 will be ignored. Current value: min_gain_to_split=3.298044778667044\n",
      "[LightGBM] [Warning] min_gain_to_split is set=3.298044778667044, min_split_gain=0.0 will be ignored. Current value: min_gain_to_split=3.298044778667044\n",
      "[LightGBM] [Warning] min_gain_to_split is set=3.298044778667044, min_split_gain=0.0 will be ignored. Current value: min_gain_to_split=3.298044778667044\n",
      "[LightGBM] [Warning] min_gain_to_split is set=3.298044778667044, min_split_gain=0.0 will be ignored. Current value: min_gain_to_split=3.298044778667044\n"
     ]
    }
   ],
   "source": [
    "#creating an optuna study \n",
    "optuna.logging.set_verbosity(optuna.logging.WARNING) #suppresses the verbose\n",
    "study = optuna.create_study(direction='maximize', study_name='LGBM Classifier')\n",
    "func = lambda trial: objective(trial,x_fs_train_std,y_train)\n",
    "study.optimize(func, n_trials=50,)\n"
   ]
  },
  {
   "cell_type": "code",
   "execution_count": 31,
   "id": "5cabefcf",
   "metadata": {
    "execution": {
     "iopub.execute_input": "2022-10-16T13:40:42.253435Z",
     "iopub.status.busy": "2022-10-16T13:40:42.253031Z",
     "iopub.status.idle": "2022-10-16T13:40:42.260120Z",
     "shell.execute_reply": "2022-10-16T13:40:42.259019Z"
    },
    "papermill": {
     "duration": 0.034707,
     "end_time": "2022-10-16T13:40:42.263444",
     "exception": false,
     "start_time": "2022-10-16T13:40:42.228737",
     "status": "completed"
    },
    "tags": []
   },
   "outputs": [
    {
     "name": "stdout",
     "output_type": "stream",
     "text": [
      "Best F1-Score 0.74529: \n",
      "\tBest params:\n",
      "\t\tn_estimators: 694\n",
      "\t\tlearning_rate: 0.24805900251575413\n",
      "\t\tnum_leaves: 2980\n",
      "\t\tmax_depth: 7\n",
      "\t\tmin_child_weight: 0.007016016953217889\n",
      "\t\tmin_gain_to_split: 0.0010114743235722923\n"
     ]
    }
   ],
   "source": [
    "print(f\"Best F1-Score {study.best_value:.5f}: \")\n",
    "print(f\"\\tBest params:\")\n",
    "\n",
    "for key, value in study.best_params.items():\n",
    "    print(f\"\\t\\t{key}: {value}\")"
   ]
  },
  {
   "cell_type": "code",
   "execution_count": 32,
   "id": "130e255d",
   "metadata": {
    "execution": {
     "iopub.execute_input": "2022-10-16T13:40:42.312984Z",
     "iopub.status.busy": "2022-10-16T13:40:42.312224Z",
     "iopub.status.idle": "2022-10-16T13:40:42.378367Z",
     "shell.execute_reply": "2022-10-16T13:40:42.377457Z"
    },
    "papermill": {
     "duration": 0.093708,
     "end_time": "2022-10-16T13:40:42.381102",
     "exception": false,
     "start_time": "2022-10-16T13:40:42.287394",
     "status": "completed"
    },
    "tags": []
   },
   "outputs": [
    {
     "name": "stdout",
     "output_type": "stream",
     "text": [
      "[LightGBM] [Warning] min_gain_to_split is set=1.683313711783354, min_split_gain=0.0 will be ignored. Current value: min_gain_to_split=1.683313711783354\n"
     ]
    },
    {
     "data": {
      "text/plain": [
       "LGBMClassifier(learning_rate=0.28403198677831654, max_depth=9,\n",
       "               min_child_weight=0.0009304244489503809,\n",
       "               min_gain_to_split=1.683313711783354, n_estimators=792,\n",
       "               num_leaves=1720)"
      ]
     },
     "execution_count": 32,
     "metadata": {},
     "output_type": "execute_result"
    }
   ],
   "source": [
    "hyper_params ={ 'learning_rate': 0.28403198677831654,\n",
    " 'n_estimators': 792,\n",
    " 'max_depth': 9,\n",
    " 'num_leaves': 1720,\n",
    " 'min_child_weight': 0.0009304244489503809,\n",
    " 'min_gain_to_split': 1.683313711783354\n",
    "              }\n",
    "lgbm_clf_tuned = LGBMClassifier(**hyper_params)\n",
    "lgbm_clf_tuned.fit(x_fs_train_std, y_train)"
   ]
  },
  {
   "cell_type": "code",
   "execution_count": 33,
   "id": "2dbede96",
   "metadata": {
    "execution": {
     "iopub.execute_input": "2022-10-16T13:40:42.430494Z",
     "iopub.status.busy": "2022-10-16T13:40:42.430107Z",
     "iopub.status.idle": "2022-10-16T13:40:42.606820Z",
     "shell.execute_reply": "2022-10-16T13:40:42.605503Z"
    },
    "papermill": {
     "duration": 0.203617,
     "end_time": "2022-10-16T13:40:42.609414",
     "exception": false,
     "start_time": "2022-10-16T13:40:42.405797",
     "status": "completed"
    },
    "tags": []
   },
   "outputs": [
    {
     "name": "stdout",
     "output_type": "stream",
     "text": [
      "Test Accuracy: 0.7565217391304347\n",
      "Test F1-Score: 0.7423312883435583\n"
     ]
    },
    {
     "data": {
      "image/png": "[encoded data removed]",
      "text/plain": [
       "<Figure size 432x288 with 2 Axes>"
      ]
     },
     "metadata": {
      "needs_background": "light"
     },
     "output_type": "display_data"
    }
   ],
   "source": [
    "y_pred = lgbm_clf_tuned.predict(x_fs_test_std)\n",
    "print(f\"Test Accuracy: {accuracy_score(y_test, y_pred)}\")\n",
    "print(f\"Test F1-Score: {f1_score(y_test, y_pred)}\")\n",
    "sns.heatmap(confusion_matrix(y_test, y_pred), fmt='.3g', annot=True, cmap='summer_r')\n",
    "plt.show()"
   ]
  },
  {
   "cell_type": "code",
   "execution_count": 34,
   "id": "e83f31b3",
   "metadata": {
    "execution": {
     "iopub.execute_input": "2022-10-16T13:40:42.657801Z",
     "iopub.status.busy": "2022-10-16T13:40:42.657385Z",
     "iopub.status.idle": "2022-10-16T13:40:42.669550Z",
     "shell.execute_reply": "2022-10-16T13:40:42.667652Z"
    },
    "papermill": {
     "duration": 0.039943,
     "end_time": "2022-10-16T13:40:42.672425",
     "exception": false,
     "start_time": "2022-10-16T13:40:42.632482",
     "status": "completed"
    },
    "tags": []
   },
   "outputs": [
    {
     "name": "stdout",
     "output_type": "stream",
     "text": [
      "              precision    recall  f1-score   support\n",
      "\n",
      "           0       0.73      0.81      0.77       173\n",
      "           1       0.79      0.70      0.74       172\n",
      "\n",
      "    accuracy                           0.76       345\n",
      "   macro avg       0.76      0.76      0.76       345\n",
      "weighted avg       0.76      0.76      0.76       345\n",
      "\n"
     ]
    }
   ],
   "source": [
    "print(classification_report(y_test, y_pred))"
   ]
  },
  {
   "cell_type": "code",
   "execution_count": null,
   "id": "4b7f2c0f",
   "metadata": {
    "papermill": {
     "duration": 0.023154,
     "end_time": "2022-10-16T13:40:42.720393",
     "exception": false,
     "start_time": "2022-10-16T13:40:42.697239",
     "status": "completed"
    },
    "tags": []
   },
   "outputs": [],
   "source": []
  }
 ],
 "metadata": {
  "kernelspec": {
   "display_name": "Python 3",
   "language": "python",
   "name": "python3"
  },
  "language_info": {
   "codemirror_mode": {
    "name": "ipython",
    "version": 3
   },
   "file_extension": ".py",
   "mimetype": "text/x-python",
   "name": "python",
   "nbconvert_exporter": "python",
   "pygments_lexer": "ipython3",
   "version": "3.7.12"
  },
  "papermill": {
   "default_parameters": {},
   "duration": 79.521785,
   "end_time": "2022-10-16T13:40:43.666643",
   "environment_variables": {},
   "exception": null,
   "input_path": "__notebook__.ipynb",
   "output_path": "__notebook__.ipynb",
   "parameters": {},
   "start_time": "2022-10-16T13:39:24.144858",
   "version": "2.3.4"
  }
 },
 "nbformat": 4,
 "nbformat_minor": 5
}
